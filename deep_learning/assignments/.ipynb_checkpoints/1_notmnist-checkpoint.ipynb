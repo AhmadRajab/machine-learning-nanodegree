{
 "cells": [
  {
   "cell_type": "markdown",
   "metadata": {
    "colab_type": "text",
    "id": "5hIbr52I7Z7U"
   },
   "source": [
    "Deep Learning\n",
    "=============\n",
    "\n",
    "Assignment 1\n",
    "------------\n",
    "\n",
    "The objective of this assignment is to learn about simple data curation practices, and familiarize you with some of the data we'll be reusing later.\n",
    "\n",
    "This notebook uses the [notMNIST](http://yaroslavvb.blogspot.com/2011/09/notmnist-dataset.html) dataset to be used with python experiments. This dataset is designed to look like the classic [MNIST](http://yann.lecun.com/exdb/mnist/) dataset, while looking a little more like real data: it's a harder task, and the data is a lot less 'clean' than MNIST."
   ]
  },
  {
   "cell_type": "code",
   "execution_count": 1,
   "metadata": {
    "cellView": "both",
    "colab": {
     "autoexec": {
      "startup": false,
      "wait_interval": 0
     }
    },
    "colab_type": "code",
    "collapsed": false,
    "id": "apJbCsBHl-2A"
   },
   "outputs": [],
   "source": [
    "# These are all the modules we'll be using later. Make sure you can import them\n",
    "# before proceeding further.\n",
    "from __future__ import print_function\n",
    "import matplotlib.pyplot as plt\n",
    "import numpy as np\n",
    "import os\n",
    "import sys\n",
    "import tarfile\n",
    "from IPython.display import display, Image\n",
    "from scipy import ndimage\n",
    "from sklearn.linear_model import LogisticRegression\n",
    "from six.moves.urllib.request import urlretrieve\n",
    "from six.moves import cPickle as pickle\n",
    "\n",
    "# Config the matlotlib backend as plotting inline in IPython\n",
    "%matplotlib inline"
   ]
  },
  {
   "cell_type": "markdown",
   "metadata": {
    "colab_type": "text",
    "id": "jNWGtZaXn-5j"
   },
   "source": [
    "First, we'll download the dataset to our local machine. The data consists of characters rendered in a variety of fonts on a 28x28 image. The labels are limited to 'A' through 'J' (10 classes). The training set has about 500k and the testset 19000 labelled examples. Given these sizes, it should be possible to train models quickly on any machine."
   ]
  },
  {
   "cell_type": "code",
   "execution_count": 2,
   "metadata": {
    "cellView": "both",
    "colab": {
     "autoexec": {
      "startup": false,
      "wait_interval": 0
     },
     "output_extras": [
      {
       "item_id": 1
      }
     ]
    },
    "colab_type": "code",
    "collapsed": false,
    "executionInfo": {
     "elapsed": 186058,
     "status": "ok",
     "timestamp": 1444485672507,
     "user": {
      "color": "#1FA15D",
      "displayName": "Vincent Vanhoucke",
      "isAnonymous": false,
      "isMe": true,
      "permissionId": "05076109866853157986",
      "photoUrl": "//lh6.googleusercontent.com/-cCJa7dTDcgQ/AAAAAAAAAAI/AAAAAAAACgw/r2EZ_8oYer4/s50-c-k-no/photo.jpg",
      "sessionId": "2a0a5e044bb03b66",
      "userId": "102167687554210253930"
     },
     "user_tz": 420
    },
    "id": "EYRJ4ICW6-da",
    "outputId": "0d0f85df-155f-4a89-8e7e-ee32df36ec8d"
   },
   "outputs": [
    {
     "name": "stdout",
     "output_type": "stream",
     "text": [
      "Found and verified notMNIST_large.tar.gz\n",
      "Found and verified notMNIST_small.tar.gz\n"
     ]
    }
   ],
   "source": [
    "url = 'http://commondatastorage.googleapis.com/books1000/'\n",
    "last_percent_reported = None\n",
    "\n",
    "def download_progress_hook(count, blockSize, totalSize):\n",
    "  \"\"\"A hook to report the progress of a download. This is mostly intended for users with\n",
    "  slow internet connections. Reports every 1% change in download progress.\n",
    "  \"\"\"\n",
    "  global last_percent_reported\n",
    "  percent = int(count * blockSize * 100 / totalSize)\n",
    "\n",
    "  if last_percent_reported != percent:\n",
    "    if percent % 5 == 0:\n",
    "      sys.stdout.write(\"%s%%\" % percent)\n",
    "      sys.stdout.flush()\n",
    "    else:\n",
    "      sys.stdout.write(\".\")\n",
    "      sys.stdout.flush()\n",
    "      \n",
    "    last_percent_reported = percent\n",
    "        \n",
    "def maybe_download(filename, expected_bytes, force=False):\n",
    "  \"\"\"Download a file if not present, and make sure it's the right size.\"\"\"\n",
    "  if force or not os.path.exists(filename):\n",
    "    print('Attempting to download:', filename) \n",
    "    filename, _ = urlretrieve(url + filename, filename, reporthook=download_progress_hook)\n",
    "    print('\\nDownload Complete!')\n",
    "  statinfo = os.stat(filename)\n",
    "  if statinfo.st_size == expected_bytes:\n",
    "    print('Found and verified', filename)\n",
    "  else:\n",
    "    raise Exception(\n",
    "      'Failed to verify ' + filename + '. Can you get to it with a browser?')\n",
    "  return filename\n",
    "\n",
    "train_filename = maybe_download('notMNIST_large.tar.gz', 247336696)\n",
    "test_filename = maybe_download('notMNIST_small.tar.gz', 8458043)"
   ]
  },
  {
   "cell_type": "markdown",
   "metadata": {
    "colab_type": "text",
    "id": "cC3p0oEyF8QT"
   },
   "source": [
    "Extract the dataset from the compressed .tar.gz file.\n",
    "This should give you a set of directories, labelled A through J."
   ]
  },
  {
   "cell_type": "code",
   "execution_count": 3,
   "metadata": {
    "cellView": "both",
    "colab": {
     "autoexec": {
      "startup": false,
      "wait_interval": 0
     },
     "output_extras": [
      {
       "item_id": 1
      }
     ]
    },
    "colab_type": "code",
    "collapsed": false,
    "executionInfo": {
     "elapsed": 186055,
     "status": "ok",
     "timestamp": 1444485672525,
     "user": {
      "color": "#1FA15D",
      "displayName": "Vincent Vanhoucke",
      "isAnonymous": false,
      "isMe": true,
      "permissionId": "05076109866853157986",
      "photoUrl": "//lh6.googleusercontent.com/-cCJa7dTDcgQ/AAAAAAAAAAI/AAAAAAAACgw/r2EZ_8oYer4/s50-c-k-no/photo.jpg",
      "sessionId": "2a0a5e044bb03b66",
      "userId": "102167687554210253930"
     },
     "user_tz": 420
    },
    "id": "H8CBE-WZ8nmj",
    "outputId": "ef6c790c-2513-4b09-962e-27c79390c762"
   },
   "outputs": [
    {
     "name": "stdout",
     "output_type": "stream",
     "text": [
      "notMNIST_large already present - Skipping extraction of notMNIST_large.tar.gz.\n",
      "['notMNIST_large/A', 'notMNIST_large/B', 'notMNIST_large/C', 'notMNIST_large/D', 'notMNIST_large/E', 'notMNIST_large/F', 'notMNIST_large/G', 'notMNIST_large/H', 'notMNIST_large/I', 'notMNIST_large/J']\n",
      "notMNIST_small already present - Skipping extraction of notMNIST_small.tar.gz.\n",
      "['notMNIST_small/A', 'notMNIST_small/B', 'notMNIST_small/C', 'notMNIST_small/D', 'notMNIST_small/E', 'notMNIST_small/F', 'notMNIST_small/G', 'notMNIST_small/H', 'notMNIST_small/I', 'notMNIST_small/J']\n"
     ]
    }
   ],
   "source": [
    "num_classes = 10\n",
    "np.random.seed(133)\n",
    "\n",
    "def maybe_extract(filename, force=False):\n",
    "  root = os.path.splitext(os.path.splitext(filename)[0])[0]  # remove .tar.gz\n",
    "  if os.path.isdir(root) and not force:\n",
    "    # You may override by setting force=True.\n",
    "    print('%s already present - Skipping extraction of %s.' % (root, filename))\n",
    "  else:\n",
    "    print('Extracting data for %s. This may take a while. Please wait.' % root)\n",
    "    tar = tarfile.open(filename)\n",
    "    sys.stdout.flush()\n",
    "    tar.extractall()\n",
    "    tar.close()\n",
    "  data_folders = [\n",
    "    os.path.join(root, d) for d in sorted(os.listdir(root))\n",
    "    if os.path.isdir(os.path.join(root, d))]\n",
    "  if len(data_folders) != num_classes:\n",
    "    raise Exception(\n",
    "      'Expected %d folders, one per class. Found %d instead.' % (\n",
    "        num_classes, len(data_folders)))\n",
    "  print(data_folders)\n",
    "  return data_folders\n",
    "  \n",
    "train_folders = maybe_extract(train_filename)\n",
    "test_folders = maybe_extract(test_filename)"
   ]
  },
  {
   "cell_type": "markdown",
   "metadata": {
    "colab_type": "text",
    "id": "4riXK3IoHgx6"
   },
   "source": [
    "---\n",
    "Problem 1\n",
    "---------\n",
    "\n",
    "Let's take a peek at some of the data to make sure it looks sensible. Each exemplar should be an image of a character A through J rendered in a different font. Display a sample of the images that we just downloaded. Hint: you can use the package IPython.display.\n",
    "\n",
    "---"
   ]
  },
  {
   "cell_type": "code",
   "execution_count": 18,
   "metadata": {
    "collapsed": false
   },
   "outputs": [
    {
     "data": {
      "image/png": "[encoded data removed]",
      "text/plain": [
       "<IPython.core.display.Image object>"
      ]
     },
     "execution_count": 18,
     "metadata": {},
     "output_type": "execute_result"
    }
   ],
   "source": [
    "# We can display images using Image(filename=\"\")\n",
    "Image(filename=\"notMNIST_small/A/Q0NXaWxkV29yZHMtQm9sZEl0YWxpYy50dGY=.png\")"
   ]
  },
  {
   "cell_type": "code",
   "execution_count": 24,
   "metadata": {
    "collapsed": false
   },
   "outputs": [
    {
     "data": {
      "text/plain": [
       "['MDEtMDEtMDAudHRm.png',\n",
       " 'MDRiXzA4LnR0Zg==.png',\n",
       " 'MjAwcHJvb2Ztb29uc2hpbmUgcmVtaXgudHRm.png',\n",
       " 'MlJlYmVsc0RldXgtQmxhY2sub3Rm.png',\n",
       " 'MlRvb24gU2hhZG93LnR0Zg==.png',\n",
       " 'MlRvb24yIFNoYWRvdy50dGY=.png',\n",
       " 'MTAuMTUgU2F0dXJkYXkgTmlnaHQgQlJLLnR0Zg==.png',\n",
       " 'MTFTMDEgQmxhY2sgVHVlc2RheSBPZmZzZXQudHRm.png',\n",
       " 'MTggSG9sZXMgQlJLLnR0Zg==.png',\n",
       " 'MTh0aENlbnR1cnkudHRm.png',\n",
       " 'MTIgV2FsYmF1bSBJdGFsaWMgMTMyNjMudHRm.png',\n",
       " 'MTJTYXJ1WWVsbG93Rm9nLnR0Zg==.png',\n",
       " 'Nng3b2N0IEFsdGVybmF0ZSBFeHRyYUxpZ2h0LnR0Zg==.png',\n",
       " 'Nng3b2N0IEFsdGVybmF0ZSBSZWd1bGFyLnR0Zg==.png',\n",
       " 'NXRoR3JhZGVyLnR0Zg==.png',\n",
       " 'OC1iaXQgTGltaXQgTyBCUksudHRm.png',\n",
       " 'OEJhbGxTY3JpcHRTQ2Fwc1NTSyBJdGFsaWMudHRm.png',\n",
       " 'OTExIFBvcnNjaGEgSXRhbGljLnR0Zg==.png',\n",
       " 'OXNxZ3JkIFRoaW4udHRm.png',\n",
       " 'Q09ERTNYLnR0Zg==.png',\n",
       " 'Q0cgT21lZ2EudHRm.png',\n",
       " 'Q0NDb21pY3JhenktQm9sZEl0YWxpYy50dGY=.png',\n",
       " 'Q0NTcG9va3l0b290aC1SZWd1bGFyLnR0Zg==.png',\n",
       " 'Q0NXaWxkV29yZHMtQm9sZEl0YWxpYy50dGY=.png',\n",
       " 'Q0sgUGluay50dGY=.png',\n",
       " 'Q1FOLU1vbGVjdWxhci1EeW5hbW8tUmVndWxhci5vdGY=.png',\n",
       " 'Q290cmFuIERpc3BsYXkgU1NpLnR0Zg==.png',\n",
       " 'Q291bnRyeXNpZGUgQmxhY2sgU1NpIEV4dHJhIEJvbGQudHRm.png',\n",
       " 'Q291cmllci1Cb2xkLm90Zg==.png',\n",
       " 'Q291cmllci1Cb2xkT2JsaXF1ZS5vdGY=.png',\n",
       " 'Q291cmllciAxMCBQaXRjaCBJdGFsaWMucGZi.png',\n",
       " 'Q291cmllciBOZXcgQ0UgQm9sZCBJdGFsaWMudHRm.png',\n",
       " 'Q291cmllcjEwIEJUIEl0YWxpYy50dGY=.png',\n",
       " 'Q291cmllcjEwIEJUIFJvbWFuLnR0Zg==.png',\n",
       " 'Q291cmllcjEwUGl0Y2hCVC1JdGFsaWMub3Rm.png',\n",
       " 'Q291cmllckMtQm9sZC5vdGY=.png',\n",
       " 'Q291cmllckMtT2JsaXF1ZS5vdGY=.png',\n",
       " 'Q291Y2hsb3Zlcjk3LnR0Zg==.png',\n",
       " 'Q292aW5ndG9uIENvbmQgQm9sZCBJdGFsaWMudHRm.png',\n",
       " 'Q292aW5ndG9uIFNoYWRvdyBJdGFsaWMudHRm.png',\n",
       " 'Q29hZ3VsYXRlLnR0Zg==.png',\n",
       " 'Q29iYWx0IE5vcm1hbC50dGY=.png',\n",
       " 'Q29jaGluIExULnR0Zg==.png',\n",
       " 'Q29jb24tUmVndWxhci5vdGY=.png',\n",
       " 'Q29jb2EgVGhpbiBOb3JtYWwudHRm.png',\n",
       " 'Q29jYWluZSBTYW5zLnR0Zg==.png',\n",
       " 'Q29lcmNpb25OYWtlZC50dGY=.png',\n",
       " 'Q29mZmVlIFNob3AudHRm.png',\n",
       " 'Q29sb255Lm90Zg==.png',\n",
       " 'Q29sb3NzYWxpcy1CbGFjay5vdGY=.png',\n",
       " 'Q29sbWNpbGxlTVRTdGQtUmVndWxhci5vdGY=.png',\n",
       " 'Q29sdW1iaWEtQm9sZC5vdGY=.png',\n",
       " 'Q29sdW1idXNNVFN0ZC1Cb2xkSXRhbGljLm90Zg==.png',\n",
       " 'Q29seW1waWEtRGVtaUJvbGQub3Rm.png',\n",
       " 'Q29seW1waWEtTGlnaHQub3Rm.png',\n",
       " 'Q29sZGJyaW5nZXIgS0cudHRm.png',\n",
       " 'Q29taWNCb29rLm90Zg==.png',\n",
       " 'Q29taXggUmVndWxhcigxKS50dGY=.png',\n",
       " 'Q29tb25zIEJvbGQudHRm.png',\n",
       " 'Q29tbWVyY2lhbFNjcmlwdC5vdGY=.png',\n",
       " 'Q29tbWVyY2UgQ29uZGVuc2VkIFNTaSBDb25kZW5zZWQgSXRhbGljLnR0Zg==.png',\n",
       " 'Q29tbWVyY2UgQmxhY2sgU1NpIEJvbGQudHRm.png',\n",
       " 'Q29tbWVyY2UgU1NpIFNlbWkgQm9sZC50dGY=.png',\n",
       " 'Q29tbXVuaXR5U2VydmljZSBCbGFjay50dGY=.png',\n",
       " 'Q29tc2F0LU5hdnktVW5pdC5vdGY=.png',\n",
       " 'Q29tc2F0LVN0YXRpb24ub3Rm.png',\n",
       " 'Q29tc2F0LVVuaXQub3Rm.png',\n",
       " 'Q29tcGF0aWxGYWN0IExUIFJlZ3VsYXIgU21hbGwgQ2Fwcy50dGY=.png',\n",
       " 'Q29tcGF0aWxMZXR0ZXIgTFQgQm9sZCBTbWFsbCBDYXBzLnR0Zg==.png',\n",
       " 'Q29tcGF0aWxMZXR0ZXIgTFQgUmVndWxhciBTbWFsbCBDYXBzLnR0Zg==.png',\n",
       " 'Q29tcGF0aWxUZXh0IExUIFJlZ3VsYXIgU21hbGwgQ2Fwcy50dGY=.png',\n",
       " 'Q29tcGFjdEMtQm9sZEl0YWxpYy5vdGY=.png',\n",
       " 'Q29tcGFjdGEgQmxhY2sgQlQudHRm.png',\n",
       " 'Q29tcGFjdGEgQmxhY2sucGZi.png',\n",
       " 'Q29tcGFjdGEgSUNHIEJvbGRJdGFsaWMudHRm.png',\n",
       " 'Q29tcGFjdGEucGZi.png',\n",
       " 'Q29tcGFjdGFFRi1Cb2xkSXRhbGljLm90Zg==.png',\n",
       " 'Q29tcGFjdGFFRi1MaWdodC5vdGY=.png',\n",
       " 'Q29tcGFjdGFTdGQtQm9sZC5vdGY=.png',\n",
       " 'Q29tcGVuZGl1bSBCbGFjayBTU2kgQmxhY2sudHRm.png',\n",
       " 'Q29tcHJlc3Nvci1TbGFiU2VyaWYub3Rm.png',\n",
       " 'Q29tcHV0ZXJmb250LnR0Zg==.png',\n",
       " 'Q29tZW5pdXNCUS1NZWRpdW0ub3Rm.png',\n",
       " 'Q29uc29sYXMgSXRhbGljLnR0Zg==.png',\n",
       " 'Q29uc3RhbnRpYS50dGY=.png',\n",
       " 'Q29uc3RydWN0aXZpc3QgU29saWQudHRm.png',\n",
       " 'Q29uc3RydWN0YS1UaGluLm90Zg==.png',\n",
       " 'Q29ucXVpc3RhIFNTaSBJdGFsaWMudHRm.png',\n",
       " 'Q29udGludXVtIEJvbGQudHRm.png',\n",
       " 'Q29udGluZW50YWxSYWlsd2F5LnBmYg==.png',\n",
       " 'Q29udGV4dCBSZXByaXNlIE1lZGl1bSBTU2kgTWVkaXVtLnR0Zg==.png',\n",
       " 'Q29udGV4dCBSZXByaXNlIENvbmRlbnNlZCBTU2kgQ29uZGVuc2VkLnR0Zg==.png',\n",
       " 'Q29udGV4dCBSZXByaXNlIFRoaW4gU1NpIFRoaW4udHRm.png',\n",
       " 'Q29udGV4dCBTU2kgQm9sZCBJdGFsaWMudHRm.png',\n",
       " 'Q29udGV4dCBTZW1pIENvbmRlbnNlZCBTU2kgU2VtaSBDb25kZW5zZWQudHRm.png',\n",
       " 'Q29udHJvbCBGcmVhayBPZmZzZXQudHRm.png',\n",
       " 'Q29uY29yZGlhU1NLIEJvbGQudHRm.png',\n",
       " 'Q29uY29yZGUgTm92YSAoUikgRXhwZXJ0IEl0YWxpYyBPc0YudHRm.png',\n",
       " 'Q29uY29yZGVCRS1Cb2xkQ24ub3Rm.png',\n",
       " 'Q29uY29yZGVFeHBlcnRCUS1JdGFsaWNPc0Yub3Rm.png',\n",
       " 'Q29uY29yZGVFeHBlcnRCUS1NZWRpdW0ub3Rm.png',\n",
       " 'Q29uY3Vyc29JdGFsaWFuIEJUTiBCb2xkLnR0Zg==.png',\n",
       " 'Q29uY3Vyc29JdGFsaWFuIEJUTiBMaW5lZCBPYmxpcXVlLnR0Zg==.png',\n",
       " 'Q29uY3Vyc29Nb2Rlcm5lIEJUTiBMdC50dGY=.png',\n",
       " 'Q29uY3Vyc29Nb2Rlcm5lIEJUTiBXaWRlIE9ibGlxdWUudHRm.png',\n",
       " 'Q29uZHVpdE9TSVRDLUxpZ2h0Lm90Zg==.png',\n",
       " 'Q29vcEZvcmdlZC5wZmI=.png',\n",
       " 'Q29vcGVyIEJsayBCVCBCbGFjay50dGY=.png',\n",
       " 'Q29vcGVyIEl0YWxpYy50dGY=.png',\n",
       " 'Q29vcGVyLnR0Zg==.png',\n",
       " 'Q29vcGVyQlQtQmxhY2tIZWFkbGluZS5vdGY=.png',\n",
       " 'Q29vcGVyQmxhRCBJdGFsaWMudHRm.png',\n",
       " 'Q29wcGVycGxhdGUgQ29uZGVuc2VkIFNTaSBDb25kZW5zZWQudHRm.png',\n",
       " 'Q29wcGVycGxhdGUgRXh0cmEgQ29uZGVuc2VkIFNTaSBCb2xkIEV4dHJhIENvbmRlbnNlZC50dGY=.png',\n",
       " 'Q29wcGVycGxhdGUudHRm.png',\n",
       " 'Q29wcGVycGxhdGVCUS1IZWF2eUV4dGVuZGVkLm90Zg==.png',\n",
       " 'Q29wcGVycGxhdGVFRi1MaWdodC5vdGY=.png',\n",
       " 'Q29wcGVycGxhdGVHb3RoaWNTdGQtMzJCQy5vdGY=.png',\n",
       " 'Q29wcGVycGxhdGVULUJvbGRDb25kZW5zZWQub3Rm.png',\n",
       " 'Q29weTA5NjUudHRm.png',\n",
       " 'Q29wYSBTaGFycCBCVE4gU2hhZG93LnR0Zg==.png',\n",
       " 'Q29yaW50aGlhbi50dGY=.png',\n",
       " 'Q29yb25ldC1TZW1pQm9sZC1JdGFsaWMgRXgudHRm.png',\n",
       " 'Q29yb25ldC50dGY=.png',\n",
       " 'Q29ybmV0IFNjcmlwdC50dGY=.png',\n",
       " 'Q29ycG9BLnR0Zg==.png',\n",
       " 'Q29ycG9TLnR0Zg==.png',\n",
       " 'Q29ycG9TTGlnIEJvbGQudHRm.png',\n",
       " 'Q29ycG9yYXRlIEEgRXhwZXJ0IEl0YWxpYyBPc0YudHRm.png',\n",
       " 'Q29ycG9yYXRlIEEgRXhwZXJ0IExpZ2h0LnR0Zg==.png',\n",
       " 'Q29ycG9yYXRlIEhRLnR0Zg==.png',\n",
       " 'Q29ycG9yYXRlIEUga3Vyc2l2IGhhbGJmZXR0LnR0Zg==.png',\n",
       " 'Q29ycG9yYXRlIFMgRXhwZXJ0IEV4dHJhIEJvbGQgSXRhbGljIE9zRi50dGY=.png',\n",
       " 'Q29ycG9yYXRlIFMgUmVndWxhci50dGY=.png',\n",
       " 'Q29ycG9yYXRlQVNDLUJvbGQub3Rm.png',\n",
       " 'Q29ycG9yYXRlRUV4cGVydEJRLUJvbGRJdGFsaWNPc0Yub3Rm.png',\n",
       " 'Q29ycG9yYXRlU0V4cGVydEJRLUxpZ2h0Lm90Zg==.png',\n",
       " 'Q29ycG9yYXRlUy1EZW1pSXRhbGljLm90Zg==.png',\n",
       " 'Q29ycGlkLUxpZ2h0SXRhbGljLm90Zg==.png',\n",
       " 'Q29ycGlkQ2RMRi1Cb2xkSXRhbGljLm90Zg==.png',\n",
       " 'Q29ycGlkQ2RMRi1MaWdodC5vdGY=.png',\n",
       " 'Q29ydGluLnR0Zg==.png',\n",
       " 'Q29yYmVpIFVuY2lhbC50dGY=.png',\n",
       " 'Q29yZGlhIE5ldyBCb2xkIEl0YWxpYy50dGY=.png',\n",
       " 'Q29yZGlhVVBDLnR0Zg==.png',\n",
       " 'Q29zbW9zQlEtTGlnaHRJdGFsaWMub3Rm.png',\n",
       " 'Q29zdGFQdGYtRGVtaS5vdGY=.png',\n",
       " 'Q29zdGFQdGYtRXh0cmFCb2xkLm90Zg==.png',\n",
       " 'Q2dFZ2l6aWFub0JsLnR0Zg==.png',\n",
       " 'Q2dGaWVkbGVyR290aGljLUJvbGQudHRm.png',\n",
       " 'Q2dGdXR1cmFNYXhpTHQudHRm.png',\n",
       " 'Q2dNb2Rlcm5Ud2VudHkudHRm.png',\n",
       " 'Q2dQaGVuaXhBbWVyaWNhbi50dGY=.png',\n",
       " 'Q2dZZWFyYm9va091dGxpbmUudHRm.png',\n",
       " 'Q2dZZWFyYm9va0ZpbGxlci50dGY=.png',\n",
       " 'Q2F0aGFyc2lzIENhcmdvLnR0Zg==.png',\n",
       " 'Q2F0dWxsIChSKSBNZWRpdSBPc0YudHRm.png',\n",
       " 'Q2F2ZSBHeXJsLnR0Zg==.png',\n",
       " 'Q2F4dG9uIEJvbGQgSXRhbGljLnBmYg==.png',\n",
       " 'Q2F4dG9uIExpZ2h0IEl0YWxpYyBCVC50dGY=.png',\n",
       " 'Q2F4dG9uLUJvbGRJdGFsaWMub3Rm.png',\n",
       " 'Q2F4dG9uU3RkLUJvbGRJdGFsaWMub3Rm.png',\n",
       " 'Q2FiYXJnYUN1cnNJQ0cub3Rm.png',\n",
       " 'Q2Fjb3Bob255IExvdWQudHRm.png',\n",
       " 'Q2FlY2lsaWEtSGVhdnlJdGFsaWNPc0Yub3Rm.png',\n",
       " 'Q2FlY2lsaWEtTGlnaHRJdGFsaWMub3Rm.png',\n",
       " 'Q2FlY2lsaWFMVFN0ZC1MaWdodC5vdGY=.png',\n",
       " 'Q2FmZU5vaXJTaGFkb3cudHRm.png',\n",
       " 'Q2Fpcm9FeHRlbmRlZEl0YWxpYyBJdGFsaWMudHRm.png',\n",
       " 'Q2FsaWd1bGEgUmVndWxhci50dGY=.png',\n",
       " 'Q2FsaXBlciBXaWRlLnR0Zg==.png',\n",
       " 'Q2FsaXMgaW4gUHVwcGV0bGFuZC50dGY=.png',\n",
       " 'Q2FsbGlncmFwaDgxMCBCVCBSb21hbi50dGY=.png',\n",
       " 'Q2Fsdmlub0hhbmQudHRm.png',\n",
       " 'Q2FsdmVydCBNVCBCb2xkLnR0Zg==.png',\n",
       " 'Q2FsdmVydCBNVCBMaWdodC50dGY=.png',\n",
       " 'Q2FsdmVydE1ULm90Zg==.png',\n",
       " 'Q2FsY3VsdXNMQ0RDYW1lby5vdGY=.png',\n",
       " 'Q2FsYW1pdHkgVGVlbiBCVE4gQm9sZC50dGY=.png',\n",
       " 'Q2FsZ2FyeS1MaWdodC5vdGY=.png',\n",
       " 'Q2FtYnJpZGdlLURlbWlCb2xkLm90Zg==.png',\n",
       " 'Q2FtYnJpZGdlLUxpZ2h0Lm90Zg==.png',\n",
       " 'Q2FtZWxpYSBSZWd1bGFyLnR0Zg==.png',\n",
       " 'Q2FtZWxsaWFELnR0Zg==.png',\n",
       " 'Q2FudG9yaWEgTVQgRXh0cmFCb2xkLnR0Zg==.png',\n",
       " 'Q2FudG9yaWFNVFN0ZC1Cb2xkLm90Zg==.png',\n",
       " 'Q2FudXRoLnR0Zg==.png',\n",
       " 'Q2FuY2VsbGFyZXNjYSBTY3JpcHQudHRm.png',\n",
       " 'Q2FuY2VsbGFyZXNjYVNjcmlwdFBsYWluLm90Zg==.png',\n",
       " 'Q2FuYWRpYW5QaG90b2dyYXBoZXIub3Rm.png',\n",
       " 'Q2FuZGlkYSBCVCBJdGFsaWMudHRm.png',\n",
       " 'Q2FuZGlkYUJULUl0YWxpYy5vdGY=.png',\n",
       " 'Q2FuZHkgQ2FuZSBNYXRjaC50dGY=.png',\n",
       " 'Q2FuZHkgU3F1YXJlIEJUTiBDb25kLnR0Zg==.png',\n",
       " 'Q2FuZHkgU3RyaXBlIChCUkspLnR0Zg==.png',\n",
       " 'Q2FwaXRhbHMudHRm.png',\n",
       " 'Q2FwdGFpbiBTaGluZXIudHRm.png',\n",
       " 'Q2Fyb2xzQ2h1bmtzLnR0Zg==.png',\n",
       " 'Q2FybGEgQm9sZC50dGY=.png',\n",
       " 'Q2FybGlzbGUgUmVndWxhci50dGY=.png',\n",
       " 'Q2FybmF0aSBTU2kgSXRhbGljLnR0Zg==.png',\n",
       " 'Q2Fybml2YWwub3Rm.png',\n",
       " 'Q2FybWluYSBNZCBCVCBNZWRpdW0udHRm.png',\n",
       " 'Q2FycGFsIFR1bm5lbC50dGY=.png',\n",
       " 'Q2FycmVOb2lyU3RkLUJvbGRJdGFsaWMub3Rm.png',\n",
       " 'Q2FydG9vbiBXaWRlLnR0Zg==.png',\n",
       " 'Q2FydGllckJvb2tTdGQtTWVkaXVtLm90Zg==.png',\n",
       " 'Q2FyYm9uIEJsb2NrLnR0Zg==.png',\n",
       " 'Q2FyZ28gVHdvIFNGLnR0Zg==.png',\n",
       " 'Q2FyZ29ELnR0Zg==.png',\n",
       " 'Q2FyZGluYWwgUmVndWxhci50dGY=.png',\n",
       " 'Q2FzaEVGLU1vbm9zcGFjZS5vdGY=.png',\n",
       " 'Q2FzbG9uIDU0MCBJdGFsaWMucGZi.png',\n",
       " 'Q2FzbG9uIEJvb2sgQkUgQm9sZC50dGY=.png',\n",
       " 'Q2FzbG9uIENhbGxpZ3JhcGhpYyBJbml0aWFscy50dGY=.png',\n",
       " 'Q2FzbG9uMjI0SVRDYnlCVC1Cb2xkSXRhbGljLm90Zg==.png',\n",
       " 'Q2FzbG9uQm9va0JFLUJvbGRPc0Yub3Rm.png',\n",
       " 'Q2FzbG9uQm9vay5vdGY=.png',\n",
       " 'Q2FzbG9uQzM3LUxndEl0bEFsdC5vdGY=.png',\n",
       " 'Q2FzbG9uSC1TQy1JdGFsaWMub3Rm.png',\n",
       " 'Q2FzbG9uSUNHLVRpdGxpbmcub3Rm.png',\n",
       " 'Q2FzbG9uT2xkRmFjZSBCVCBSb21hbi50dGY=.png',\n",
       " 'Q2FzbG9uT2xkRmFjZUJULVJvbWFuLm90Zg==.png',\n",
       " 'Q2FzbG9uVHdvVHdlbnR5Rm91ci1CbGFja0l0Lm90Zg==.png',\n",
       " 'Q2FzbG9uVHdvVHdlbnR5Rm91ci1NZWRpdW0ub3Rm.png',\n",
       " 'Q2FzbG9uVHdvVHdlbnR5Rm91ckJRLU1lZGl1bS5vdGY=.png',\n",
       " 'Q2Fzc2FuZHJhLnR0Zg==.png',\n",
       " 'Q2Fzc2FuZHJhRUYtQm9sZC5vdGY=.png',\n",
       " 'Q2FzdG9yZ2F0ZSAtIE1lc3NlZC50dGY=.png',\n",
       " 'Q2FzdG9yZ2F0ZSAtIFJvdWdoLnR0Zg==.png',\n",
       " 'Q2FzdGxlVC1Cb2xkLm90Zg==.png',\n",
       " 'Q2FzdWFsLnR0Zg==.png',\n",
       " 'Q2FzIE9wZW4gRmFjZSBOb3JtYWwudHRm.png',\n",
       " 'Q2FzYWJsYW4tRXh0cmFCb2xkLm90Zg==.png',\n",
       " 'Q2h1cmNod2FyZEJydURSZWcudHRm.png',\n",
       " 'Q2h1YmJ5T3V0bGluZS50dGY=.png',\n",
       " 'Q2hhbGV0Qm9vayBCb2xkIEl0YWxpYy50dGY=.png',\n",
       " 'Q2hhbGV0Qm9vayBCb2xkLm90Zg==.png',\n",
       " 'Q2hhbmNlcnkgU2NyaXB0IE1lZGl1bSBTU2kgTWVkaXVtLnR0Zg==.png',\n",
       " 'Q2hhbmV5IEV4dGVuZGVkIE5vcm1hbC50dGY=.png',\n",
       " 'Q2hhbnNvbiBIZWF2eSBTRiBCb2xkIEl0YWxpYy50dGY=.png',\n",
       " 'Q2hhbnRpbGx5LU1lZGl1bS5vdGY=.png',\n",
       " 'Q2hhbnRpbGx5LVhsaWdodEl0YS5vdGY=.png',\n",
       " 'Q2hhbXBhZ25lSXRhbGljLm90Zg==.png',\n",
       " 'Q2hhc2xpbmUtQm9sZC5vdGY=.png',\n",
       " 'Q2hhc2xpbmUtT2JsaXF1ZS5vdGY=.png',\n",
       " 'Q2hhcGFycmFsUHJvLUxpZ2h0SXRDYXB0Lm90Zg==.png',\n",
       " 'Q2hhcmxpZSdzIEFuZ2xlcyBPdXRHcmFkaWVudC50dGY=.png',\n",
       " 'Q2hhcmxvdHRlU3RkLUJvb2sub3Rm.png',\n",
       " 'Q2hhcnJpbmd0b24gV2lkZS50dGY=.png',\n",
       " 'Q2hhcnRlciBJVEMgQm9sZCBCVC50dGY=.png',\n",
       " 'Q2hhcnRlciBJVEMgSXRhbGljIEJULnR0Zg==.png',\n",
       " 'Q2hhcnRlciBJVEMgUm9tYW4gQlQudHRm.png',\n",
       " 'Q2hhcnRlciBPU0YgQlQgQmxhY2sgSXRhbGljLnR0Zg==.png',\n",
       " 'Q2hhcnRlcklUQ2J5QlQtQm9sZEl0YWxpYy5vdGY=.png',\n",
       " 'Q2hhcnRlcklUQy1SZWd1SXRhbC5vdGY=.png',\n",
       " 'Q2hhcnRlckVGLVJlZ3VsYXJJdGFsaWNPc0Yub3Rm.png',\n",
       " 'Q2hheiBXaWRlIE5vcm1hbC50dGY=.png',\n",
       " 'Q2hlbHNleSBCb2xkIEl0YWxpYy50dGY=.png',\n",
       " 'Q2hlbHNleSBDb25kZW5zZWQgQm9sZCBJdGFsaWMudHRm.png',\n",
       " 'Q2hlbHNleSBFeHRlbmRlZCBCb2xkIEl0YWxpYy50dGY=.png',\n",
       " 'Q2hlbHNleSBXaWRlIE5vcm1hbC50dGY=.png',\n",
       " 'Q2hlbHNlYS1Cb29rLm90Zg==.png',\n",
       " 'Q2hlbHRlbmhhbS1Cb29rQ29uZEl0YWxpYy5vdGY=.png',\n",
       " 'Q2hlbHRlbmhhbS1Cb2xkQ29uZEl0YWxpYy5vdGY=.png',\n",
       " 'Q2hlbHRlbmhhbS1VbHRyYUNvbmQub3Rm.png',\n",
       " 'Q2hlbHRlbmhhbSBCb2xkIEl0YWxpYyBCVC50dGY=.png',\n",
       " 'Q2hlbHRlbmhhbSBJdGFsaWMucGZi.png',\n",
       " 'Q2hlbHRlbmhhbSBJdGMgVCBFRSBCb2xkLnBmYg==.png',\n",
       " 'Q2hlbHRlbmhhbU9sZFN0eWxlRUYub3Rm.png',\n",
       " 'Q2hlbHRlbmhhbUFURk9sZHN0eWxlQlEtSXRhbGljLm90Zg==.png',\n",
       " 'Q2hlbHRlbmhhbUJULUl0YWxpYy5vdGY=.png',\n",
       " 'Q2hlbHRlbmhhbUlUQ0JRLUJvb2sub3Rm.png',\n",
       " 'Q2hlbHRlbmhhbUlUQ2J5QlQtQm9va0l0YWxpYy5vdGY=.png',\n",
       " 'Q2hlbHRlbmhhbVN0ZC1Cb2xkLm90Zg==.png',\n",
       " 'Q2hlbHRlbmhtIEJUIEJvbGQudHRm.png',\n",
       " 'Q2hlbHRlbmhtIEJUIEl0YWxpYy50dGY=.png',\n",
       " 'Q2hlbHRlbmhtIEJUIFJvbWFuLnR0Zg==.png',\n",
       " 'Q2hlbHRlbmhtIFhCZENuIEJUIEJvbGQudHRm.png',\n",
       " 'Q2hlbmdhbHVsdS5vdGY=.png',\n",
       " 'Q2hlbWljYWwgUmVhY3Rpb24gQiAtQlJLLS50dGY=.png',\n",
       " 'Q2hlc3RlcmZpZWxkQW50RC50dGY=.png',\n",
       " 'Q2hlcmllIElUQy50dGY=.png',\n",
       " 'Q2hldmFsaWVyQ2Fwc0JRLVJlZ3VsYXIub3Rm.png',\n",
       " 'Q2hldmFsaWVyU3RyU0NELnR0Zg==.png',\n",
       " 'Q2hpbGFkYUlDRy1Vbm8ub3Rm.png',\n",
       " 'Q2hpbGQncyBQbGF5LnR0Zg==.png',\n",
       " 'Q2hpbGRzUGxheS1BZ2VOaW5lLm90Zg==.png',\n",
       " 'Q2hpbmVzZSBCcnVzaC50dGY=.png',\n",
       " 'Q2hpbnllbiAgTm9ybWFsLnR0Zg==.png',\n",
       " 'Q2hpc2VsIFdpZGUgQm9sZCBJdGFsaWMudHRm.png',\n",
       " 'Q2hpc2VsIFdpZGUgSXRhbGljLnR0Zg==.png',\n",
       " 'Q2hpc2VsIFRoaW4gQm9sZCBJdGFsaWMudHRm.png',\n",
       " 'Q2hpY29yeS50dGY=.png',\n",
       " 'Q2hpY2Fnb0xhc2VyIE1lZGl1bS50dGY=.png',\n",
       " 'Q2hpY2FuZSBSZWd1bGFyLnR0Zg==.png',\n",
       " 'Q2hpYW50aSBHWCBCVC50dGY=.png',\n",
       " 'Q2hpYW50aSBYQmRJdCBPU0YgQlQgRXh0cmEgQm9sZCBJdGFsaWMudHRm.png',\n",
       " 'Q2hvcml6by50dGY=.png',\n",
       " 'Q2hvcmQtQmxhY2sub3Rm.png',\n",
       " 'Q2hvcmQtQmxhY2tJdGFsaWMub3Rm.png',\n",
       " 'Q2hvcmVhIERpc3BsYXkgU1NpIEJsYWNrLnR0Zg==.png',\n",
       " 'Q2hvd2RlcmhlYWQudHRm.png',\n",
       " 'Q2hvY0lDRy5vdGY=.png',\n",
       " 'Q2hvZGEudHRm.png',\n",
       " 'Q2hyaXN0b3Boc1F1aWxsSVRDU3RkLUJvbGQub3Rm.png',\n",
       " 'Q2hyaXN0bWFzR2lmdFNjcmlwdEEudHRm.png',\n",
       " 'Q2hyaXN0bWFzR2lmdFNjcmlwdEJvbGRBLnR0Zg==.png',\n",
       " 'Q2hyb21lWWVsbG93LnR0Zg==.png',\n",
       " 'Q2hyb21vc29tZVJldmVyc2VkLUhlYXZ5Lm90Zg==.png',\n",
       " 'Q2l0aXplbkxpZ2h0IFJlZ3VsYXIudHRm.png',\n",
       " 'Q2l0aXplbkxpZ2h0Lm90Zg==.png',\n",
       " 'Q2l0eS1MaWdodC5vdGY=.png',\n",
       " 'Q2l0eSAoUikgTGlnaHQudHRm.png',\n",
       " 'Q2l0eURFRU1lZC50dGY=.png',\n",
       " 'Q2l0YWRlbC1JbmxpbmUub3Rm.png',\n",
       " 'Q2lyY3VsYXIgRkMudHRm.png',\n",
       " 'Q2lyY3VsYXRlIChCUkspLnR0Zg==.png',\n",
       " 'Q2lyY3VtY2lzaW9uLUJvbGQub3Rm.png',\n",
       " 'Q2lyY3VzIE5vcm1hbC50dGY=.png',\n",
       " 'Q2VubmVyaWsgUGxhaW4udHRm.png',\n",
       " 'Q2VudG8gRXh0ZW5kZWQgQm9sZEl0YWxpYy50dGY=.png',\n",
       " 'Q2VudGF1ci1EZW1pQm9sZC5vdGY=.png',\n",
       " 'Q2VudGVubmlhbC1CbGFjay5vdGY=.png',\n",
       " 'Q2VudHVyeS1Cb29rLm90Zg==.png',\n",
       " 'Q2VudHVyeS1TY2hvb2xib29rLU5vcm1hbC50dGY=.png',\n",
       " 'Q2VudHVyeS1VbHRyYUl0YWxpYy5vdGY=.png',\n",
       " 'Q2VudHVyeSA3MjUgQ29uZGVuc2VkIEJULnR0Zg==.png',\n",
       " 'Q2VudHVyeSA3MzEgQm9sZC5wZmI=.png',\n",
       " 'Q2VudHVyeSA3NTEgQm9sZCBJdGFsaWMucGZi.png',\n",
       " 'Q2VudHVyeSBFeHBhbmRlZCBJdGFsaWMucGZi.png',\n",
       " 'Q2VudHVyeSBHb3RoaWMudHRm.png',\n",
       " 'Q2VudHVyeSBPbGRzdHlsZS5wZmI=.png',\n",
       " 'Q2VudHVyeSBSZXRyb3NwZWN0aXZlIExpZ2h0IFNTaSBMaWdodCBJdGFsaWMudHRm.png',\n",
       " 'Q2VudHVyeSBTY2hvb2xib29rIEdyZWVrIEJULnR0Zg==.png',\n",
       " 'Q2VudHVyeSBTY2hvb2xib29rIEdyZWVrIEJvbGQgSW5jbGluZWQgQlQudHRm.png',\n",
       " 'Q2VudHVyeSBTY2hvb2xib29rIEdyZWVrIEluY2xpbmVkIEJULnR0Zg==.png',\n",
       " 'Q2VudHVyeSBTY2hvb2xib29rIEJvbGQgSXRhbGljLnBmYg==.png',\n",
       " 'Q2VudHVyeSBTY2hvb2xib29rIEl0YWxpYy5wZmI=.png',\n",
       " 'Q2VudHVyeSBTY2hvb2xib29rIEl0YWxpYyBCVC50dGY=.png',\n",
       " 'Q2VudHVyeSBTY2hvb2xib29rIFNTaSBCb2xkIEl0YWxpYy50dGY=.png',\n",
       " 'Q2VudHVyeSBTY2hvb2xib29rIFQgRUUgUmVndWxhciBJdGFsaWMucGZi.png',\n",
       " 'Q2VudHVyeTcyNSBCbGsgQlQgQmxhY2sudHRm.png',\n",
       " 'Q2VudHVyeTcyNSBCZENuIEJUIEJvbGQudHRm.png',\n",
       " 'Q2VudHVyeTcyNUJULUl0YWxpYy5vdGY=.png',\n",
       " 'Q2VudHVyeTcyNUJULVJvbWFuQ29uZGVuc2VkLm90Zg==.png',\n",
       " 'Q2VudHVyeTczMSBCVCBJdGFsaWMudHRm.png',\n",
       " 'Q2VudHVyeTczMUJULUJvbGRJdGFsaWNBLm90Zg==.png',\n",
       " 'Q2VudHVyeU9sZFN0eWxlU3RkLVJlZ3VsYXIub3Rm.png',\n",
       " 'Q2VudHVyeU9TTVRTdGQtQm9sZEl0YWxpYy5vdGY=.png',\n",
       " 'Q2VudHVyeU9TTVRTdGQtSXRhbGljLm90Zg==.png',\n",
       " 'Q2VudHVyeUlUQ0JRLUJvb2tJdGFsaWMub3Rm.png',\n",
       " 'Q2VudHVyeUlUQ0JRLUxpZ2h0Lm90Zg==.png',\n",
       " 'Q2VudHVyeUlUQ0NvbmRlbnNlZEJRLUJvb2sub3Rm.png',\n",
       " 'Q2VudHVyeUlUQ0NvbmRlbnNlZEJRLUJvbGQub3Rm.png',\n",
       " 'Q2VudHVyeUlUQ0NvbmRlbnNlZEJRLUxpZ2h0Lm90Zg==.png',\n",
       " 'Q2VudHVyeUlUQ2J5QlQtQm9sZENvbmRJdGFsaWMub3Rm.png',\n",
       " 'Q2VudHVyeUlUQ2J5QlQtQm9sZENvbmRlbnNlZC5vdGY=.png',\n",
       " 'Q2VudHVyeUlUQ2J5QlQtTGlnaHRDb25kSXRhbGljLm90Zg==.png',\n",
       " 'Q2VudHVyeUNvbmRCb29rSXRhbGljLm90Zg==.png',\n",
       " 'Q2VudHVyeVN0ZC1VbHRyYUl0YWxpYy5vdGY=.png',\n",
       " 'Q2VudHVyeVNjaG9vbC5vdGY=.png',\n",
       " 'Q2VudHVyeVNjaG9vbGJvb2tCVC1Sb21hbi5vdGY=.png',\n",
       " 'Q2VudHVyeVNjaG9vbGJvb2tFRi1Cb2wub3Rm.png',\n",
       " 'Q2VyaWdvRUYtQm9sZEl0YWxpYy5vdGY=.png',\n",
       " 'Q2xhaXJ2YXV4TFRTdGQub3Rm.png',\n",
       " 'Q2xhc3NpY2EgT25lLnR0Zg==.png',\n",
       " 'Q2xhc3NpY2EtSXRhbGljLnR0Zg==.png',\n",
       " 'Q2xhc3NpY2FsR2FyYW1vbmRCVC1Sb21hbi5vdGY=.png',\n",
       " 'Q2xhc3NpYyBUcmFzaCAxIEJSSy50dGY=.png',\n",
       " 'Q2xhc3NpYzEwNjUudHRm.png',\n",
       " 'Q2xhcml0eSBHb3RoaWMgU0YudHRm.png',\n",
       " 'Q2xhcmVuZG9uIEh2IEJUIEhlYXZ5LnR0Zg==.png',\n",
       " 'Q2xhcmVuZG9uIEJsYWNrLnBmYg==.png',\n",
       " 'Q2xhcmVuZG9uQlEtQmxhY2sub3Rm.png',\n",
       " 'Q2xhcmVuZG9uTVRTdGQub3Rm.png',\n",
       " 'Q2xlb3BhdHJhLm90Zg==.png',\n",
       " 'Q2xlcmljIEJsYWNrIFNTaSBCbGFjayBJdGFsaWMudHRm.png',\n",
       " 'Q2xlcmZhY2UtQm9sZC5vdGY=.png',\n",
       " 'Q2xlcmZhY2UtQm9sZEl0YS5vdGY=.png',\n",
       " 'Q2xlcmZhY2UtRGVtaUJvbGQub3Rm.png',\n",
       " 'Q2xldmVyIER1a2UgQlROIFNtb290aC50dGY=.png',\n",
       " 'Q2xlYXJ2aWV3SHd5LTYtQi50dGY=.png',\n",
       " 'Q2xlYXJmYWNlIElUQyBCbGFjay50dGY=.png',\n",
       " 'Q2xlYXJmYWNlIElUQyBCbGFjayBJdGFsaWMudHRm.png',\n",
       " 'Q2xlYXJmYWNlQVRGQlEtQm9sZC5vdGY=.png',\n",
       " 'Q2xlYXJmYWNlR290aGljTFQtQmxhY2sub3Rm.png',\n",
       " 'Q2xlYXJmYWNlR290aGljTFRTdGQtTGlnaHQub3Rm.png',\n",
       " 'Q2xlYXJmYWNlTFQtSGVhdnkub3Rm.png',\n",
       " 'Q2xlYXJmYWNlTVRTdGQtQm9sZC5vdGY=.png',\n",
       " 'Q2xlYXJnb3RoaWMtRXh0cmFCb2xkLm90Zg==.png',\n",
       " 'Q2xlYXJnb3RoaWMtUmVndWxhckl0YS5vdGY=.png',\n",
       " 'Q2xlYXJseSBHb3RoaWMgSGVhdnkgSXRhbGljLnR0Zg==.png',\n",
       " 'Q2xpcGUgT3Blbi50dGY=.png',\n",
       " 'Q2xpcXVlLVNlcmlmQm9sZE9ibGlxdWUub3Rm.png',\n",
       " 'Q2xpY2hlZUNFLU9ibGlxdWUub3Rm.png',\n",
       " 'Q2xvaXN0ZXJPcGVuRmFjZSBCVC50dGY=.png',\n",
       " 'Q2xvaXN0ZXJTdGQtT3BlbkZhY2Uub3Rm.png',\n",
       " 'Q2xvdmVySVRDLm90Zg==.png',\n",
       " 'Q2xvY2t3b3JrIFJlZ3VsYXIudHRm.png',\n",
       " 'Q3J1bmNoeUZheFBob250Lm90Zg==.png',\n",
       " 'Q3J1c3RpRXN0LnR0Zg==.png',\n",
       " 'Q3J5c3RhbHNIYW5kIFJlZ3VsYXIudHRm.png',\n",
       " 'Q3Jha29vbSEudHRm.png',\n",
       " 'Q3JhenkgR2lybHogQmxvbmQgQlROLnR0Zg==.png',\n",
       " 'Q3JhY2tkb3duIFIgLUJSSy0udHRm.png',\n",
       " 'Q3Jld0N1dENhcHMgSXRhbGljLnR0Zg==.png',\n",
       " 'Q3Jpc3RvTGlraWQgVHJ5b3V0LnR0Zg==.png',\n",
       " 'Q3JpY2tldC50dGY=.png',\n",
       " 'Q3JvaXNzYW50RUYub3Rm.png',\n",
       " 'Q3Jvbm9zUHJvLUJvbGRDYXB0SXQub3Rm.png',\n",
       " 'Q3Jvbm9zUHJvLUJvbGRTdWJoLm90Zg==.png',\n",
       " 'Q3Jvbm9zUHJvLUNhcHRJdC5vdGY=.png',\n",
       " 'Q3Jvbm9zUHJvLVJlZ3VsYXIub3Rm.png',\n",
       " 'Q3Jvbm9zUHJvLVNlbWlib2xkSXQub3Rm.png',\n",
       " 'Q3Jvc2J5c0hhbmQudHRm.png',\n",
       " 'Q3Jvc3NvdmVyIEJvbGRPYmxpcXVlLnR0Zg==.png',\n",
       " 'Q3Jvc3NvdmVyIEV4dHJhTGlnaHQudHRm.png',\n",
       " 'Q3liZXJ3aGl6LnR0Zg==.png',\n",
       " 'Q3ljbGluLnR0Zg==.png',\n",
       " 'Q3V0dGVyUm9tYW4ub3Rm.png',\n",
       " 'Q3VybHpNVFN0ZC1SZWd1bGFyLm90Zg==.png',\n",
       " 'Q3VydmF0dXJlLVJvdW5kZWQub3Rm.png',\n",
       " 'Q3VydmF0dXJlLVJvdW5kZWRJdGFsaWMub3Rm.png',\n",
       " 'Q3VzaGluZ0Jvb2tJdGFsaWMub3Rm.png',\n",
       " 'Q3VzaGluZ0l0Y1RFRUhlYS50dGY=.png',\n",
       " 'Q3VzaGluZ0VGLUhlYXZ5SXRhbGljLm90Zg==.png',\n",
       " 'Q3VzaGluZ1N0ZC1Cb29rSXRhbGljLm90Zg==.png',\n",
       " 'Q3VzaGluZyBIZWF2eSBJdGFsaWMgQlQudHRm.png',\n",
       " 'QklHQ1NIQUQgTGVmdHkudHRm.png',\n",
       " 'QkRmYXplci5vdGY=.png',\n",
       " 'QlJFQUtCRUFULm90Zg==.png',\n",
       " 'QlZHSGZldHRLdXJzaXYub3Rm.png',\n",
       " 'QlZHUGljdEVpbnMub3Rm.png',\n",
       " 'Qm90b24gUmVndWxhci50dGY=.png',\n",
       " 'Qm90b24tTGlnaHRJdGFsaWMub3Rm.png',\n",
       " 'Qm90b25CUS1NZWRpdW1JdGFsaWMub3Rm.png',\n",
       " 'Qm91Z2FuIEJsYWNrIFNTaSBCb2xkLnR0Zg==.png',\n",
       " 'Qm91Z2FuIEJvb2sgU1NpIEJvb2sudHRm.png',\n",
       " 'Qm91Z2FuIFNTaSBTZW1pIEJvbGQudHRm.png',\n",
       " 'Qm94c3ByaW5nQS50dGY=.png',\n",
       " 'Qm9iYmllc0hhbmQudHRm.png',\n",
       " 'Qm9kaWUgTUYgRmxhZy50dGY=.png',\n",
       " 'Qm9kb25pIE1UIEl0YWxpYy50dGY=.png',\n",
       " 'Qm9kb25pIE9sZCBGYWNlIEJFIE1lZGl1bSBJdGFsaWMgT2xkc3R5bGUgRmlndXJlcy50dGY=.png',\n",
       " 'Qm9kb25pIFN2dHlUd28gSVRDIFRUIEJvbGQudHRm.png',\n",
       " 'Qm9kb25pIFNpeCBJVEMgVFQgQm9vay50dGY=.png',\n",
       " 'Qm9kb25pIFNpeCBPUyBJVEMgVFQgQm9sZC50dGY=.png',\n",
       " 'Qm9kb25pIFNTaS50dGY=.png',\n",
       " 'Qm9kb25pLUJvbGRJdGFsaWMub3Rm.png',\n",
       " 'Qm9kb25pLUl0YWxpYy5vdGY=.png',\n",
       " 'Qm9kb25pQ2xhc3NpYy1Cb2xkSXRhbGljLm90Zg==.png',\n",
       " 'Qm9kb25pQkUtTWVkaXVtQ24ub3Rm.png',\n",
       " 'Qm9kb25pQkUtUmVndWxhci5vdGY=.png',\n",
       " 'Qm9kb25pQlQtUm9tYW4ub3Rm.png',\n",
       " 'Qm9kb25pQmF1ZXJCUS1SZWd1bGFyLm90Zg==.png',\n",
       " 'Qm9kb25pQmVydENvbkJRLUJvbGRJdGFsaWMub3Rm.png',\n",
       " 'Qm9kb25pQmVydGhvbGRCUS1Cb2xkSXRhbGljLm90Zg==.png',\n",
       " 'Qm9kb25pQy1Cb2xkSXRhbGljLm90Zg==.png',\n",
       " 'Qm9kb25pQy1JdGFsaWMub3Rm.png',\n",
       " 'Qm9kb25pREJsYS50dGY=.png',\n",
       " 'Qm9kb25pRUYtRGVtaUJvbGQub3Rm.png',\n",
       " 'Qm9kb25pRUYtRGVtaUJvbGRJdGEub3Rm.png',\n",
       " 'Qm9kb25pRUYtTGlnaHQub3Rm.png',\n",
       " 'Qm9kb25pSUNHLm90Zg==.png',\n",
       " 'Qm9kb25pT2xkRmFjZUJFLVJlZ3VsYXIub3Rm.png',\n",
       " 'Qm9kb25pT2xkRmFjZUJRLUl0YWxpYy5vdGY=.png',\n",
       " 'Qm9kb25pT2xkRmFjZUJRLVJlZ3VsYXIub3Rm.png',\n",
       " 'Qm9kb25pT2xkRmFjZUV4cEJRLU1lZGl1bS5vdGY=.png',\n",
       " 'Qm9kb25pTVRTdGQtSXRhbGljLm90Zg==.png',\n",
       " 'Qm9kb25pU2l4SVRDLUJvb2tJdGFsT1Mub3Rm.png',\n",
       " 'Qm9kb25pU2l4SVRDLUJvbGQub3Rm.png',\n",
       " 'Qm9kb25pU2l4SVRDLUJvbGRJdGFsT1Mub3Rm.png',\n",
       " 'Qm9kb25pU2l4SVRDU3RkLUJvbGQub3Rm.png',\n",
       " 'Qm9kb25pU2V2SVRDLUJvb2tJdGFsLm90Zg==.png',\n",
       " 'Qm9kb25pU3RkLUl0YWxpYy5vdGY=.png',\n",
       " 'Qm9kb25pVHdlSVRDLUJvbGQub3Rm.png',\n",
       " 'Qm9kb3hpLURlbWlCb2xkLm90Zg==.png',\n",
       " 'Qm9kZWdhU2VyaWYtTWVkaXVtT2xkc3R5bGUub3Rm.png',\n",
       " 'Qm9ndXNmbG93LnR0Zg==.png',\n",
       " 'Qm9sZGZhY2VJdGFsaWMtLnR0Zg==.png',\n",
       " 'Qm9sZGZhY2VJdGFsaWMtU2VtaUJvbGQtSXRhbGljLnR0Zg==.png',\n",
       " 'Qm9uayBPdXRlcmN1dC50dGY=.png',\n",
       " 'Qm9uZWhlYWQudHRm.png',\n",
       " 'Qm9va21hbiBCVCBJdGFsaWMudHRm.png',\n",
       " 'Qm9va21hbiBCVCBSb21hbi50dGY=.png',\n",
       " 'Qm9va21hbiBPbGQgU3R5bGUgQm9sZCBJdGFsaWMudHRm.png',\n",
       " 'Qm9va21hbiBSZWd1bGFyLnR0Zg==.png',\n",
       " 'Qm9va21hbkJRLURlbWlCb2xkLm90Zg==.png',\n",
       " 'Qm9va21hbkJRLURlbWlCb2xkSXRhbGljLm90Zg==.png',\n",
       " 'Qm9va21hbklUQ1N0ZC1MaWdodEl0YWxpYy5vdGY=.png',\n",
       " 'Qm9va21hblN0ZC1Cb2xkSXRhbGljLm90Zg==.png',\n",
       " 'Qm9va2VyLm90Zg==.png',\n",
       " 'Qm9vemxlIERpc3BsYXkgU1NpIEl0YWxpYy50dGY=.png',\n",
       " 'Qm9yb3dheUJPbGQudHRm.png',\n",
       " 'Qm9yem9pIE1lZGl1bS50dGY=.png',\n",
       " 'Qm9yZGVhdXggSUNHLnR0Zg==.png',\n",
       " 'Qm9yZGVhdXggSXRhbGljIFBsYWluLnR0Zg==.png',\n",
       " 'Qm9yZGVhdXhNZWRpdW0ub3Rm.png',\n",
       " 'Qm9yZGVsbG8tU2hhZGVkLm90Zg==.png',\n",
       " 'Qm9zbmlhIEQgQm9sZC50dGY=.png',\n",
       " 'Qm9zdG9uIFRyYWZmaWMudHRm.png',\n",
       " 'QmF0aCBMaWdodEl0YWxpYy50dGY=.png',\n",
       " 'QmF0YWtDb25kZW5zZWRJVENTdGRCb2xkLm90Zg==.png',\n",
       " 'QmF1aGF1c0l0Y1RFRU1lZC50dGY=.png',\n",
       " 'QmF1aGF1c0l0Y1RFRUJvbC50dGY=.png',\n",
       " 'QmF1aGF1c0lUQ2J5QlQtTGlnaHQub3Rm.png',\n",
       " 'QmF1aGF1cy1EZW1pLm90Zg==.png',\n",
       " 'QmF1aGF1cyBCb2xkLnR0Zg==.png',\n",
       " 'QmF1ZXIgQm9kb25pIEJvbGQgQ29uZGVuc2VkIEJULnR0Zg==.png',\n",
       " 'QmF1ZXJCb2RvbmlCVC1CbGFjay5vdGY=.png',\n",
       " 'QmF1ZXJCb2RvbmlCVC1UaXRsaW5nLm90Zg==.png',\n",
       " 'QmF1ZXJUb3BpYy1CbGQub3Rm.png',\n",
       " 'QmF5ZXJFeHBlcmltZW50LnR0Zg==.png',\n",
       " 'QmFieSBLcnVmZnkudHRm.png',\n",
       " 'QmFja3RhbGtTZXJpZiBCVE4gU0MgQm9sZE9ibGlxdWUudHRm.png',\n",
       " 'QmFjY2FyYXRXaWRlIFJlZ3VsYXIudHRm.png',\n",
       " 'QmFjY3VzIFJlZ3VsYXIudHRm.png',\n",
       " 'QmFkIE1vZm8udHRm.png',\n",
       " 'QmFkLnR0Zg==.png',\n",
       " 'QmFpbGV5IFNhbnMgSVRDIEJvb2sudHRm.png',\n",
       " 'QmFpbGV5U2Fuc0lUQ1N0ZC1Cb2xkLm90Zg==.png',\n",
       " 'QmFrZXIgU2lnbmV0IEJULnR0Zg==.png',\n",
       " 'QmFrZXJTaWduZXQgQlQgUm9tYW4udHRm.png',\n",
       " 'QmFsbGFudGluZXMtRGVtaUJvbGQub3Rm.png',\n",
       " 'QmFsbGFudGluZXNTY3JpcHRFRi1NZWRpdW0ub3Rm.png',\n",
       " 'QmFsc2Ftby50dGY=.png',\n",
       " 'QmFsdHJhR0Qub3Rm.png',\n",
       " 'QmFsYUN5bnd5ZC50dGY=.png',\n",
       " 'QmFsYW5jZS1MaWdodC5vdGY=.png',\n",
       " 'QmFsYW5jZS1MaWdodENhcHNJdGFsaWMub3Rm.png',\n",
       " 'QmFsYW5jZUxpZ2h0LUl0YWxpYy5vdGY=.png',\n",
       " 'QmFsYW5jZUxpZ2h0LUNhcHMub3Rm.png',\n",
       " 'QmFubmVyU3RkLm90Zg==.png',\n",
       " 'QmFuY29JVENTdGQtSGVhdnkub3Rm.png',\n",
       " 'QmFuY29JVENTdGQtTGlnaHQub3Rm.png',\n",
       " 'QmFuZ2xlIENvbmRlbnNlZCBCb2xkIEl0YWxpYy50dGY=.png',\n",
       " 'QmFycnlzSGFuZCBSZWd1bGFyLnR0Zg==.png',\n",
       " 'QmFydCBIZWF2eSBJdGFsaWMudHRm.png',\n",
       " 'QmFydCBIZWF2eSBOb3JtYWwudHRm.png',\n",
       " 'QmFydCBJdGFsaWMudHRm.png',\n",
       " 'QmFydCBUaGluIEhlYXZ5IEJvbGQudHRm.png',\n",
       " 'QmFydCBUaGluIEJvbGRJdGFsaWMudHRm.png',\n",
       " 'QmFyY29vbC50dGY=.png',\n",
       " 'QmFyY2Vsb25hIEJvbGQudHRm.png',\n",
       " 'QmFyY2Vsb25hSVRDU3RkLUJvb2tJdGFsaWMub3Rm.png',\n",
       " 'QmFyY2Vsb25hSVRDU3RkLUJvbGQub3Rm.png',\n",
       " 'QmFyY2xheSBPcGVuLnR0Zg==.png',\n",
       " 'QmFyYmVyUG9sZSBSZWd1bGFyLnR0Zg==.png',\n",
       " 'QmFza2VydmlsbGUgQm9sZCBJdCBXaW45NUJUKDEpLnR0Zg==.png',\n",
       " 'QmFza2VydmlsbGUgQmxhY2sgU1NpIEJvbGQgSXRhbGljLnR0Zg==.png',\n",
       " 'QmFza2VydmlsbGUgU1NpLnR0Zg==.png',\n",
       " 'QmFza2VydmlsbGUtTm9ybWFsLUl0YWxpYy50dGY=.png',\n",
       " 'QmFza2VydmlsbGVCUS1JdGFsaWMub3Rm.png',\n",
       " 'QmFza2VydmlsbGVCUS1NZWRpdW0ub3Rm.png',\n",
       " 'QmFza2VydmlsbGVCVC1Sb21hbi5vdGY=.png',\n",
       " 'QmFza2VydmlsbGVFRi1NZWRpdW0ub3Rm.png',\n",
       " 'QmFza2VydmlsbGVOZXdCUS1Cb2xkSXRhbGljLm90Zg==.png',\n",
       " 'QmFza2VydmlsbGVULnR0Zg==.png',\n",
       " 'QmFza2VydmlsbGVULVJlZ3Uub3Rm.png',\n",
       " 'QmFza2VydmlsbGVULVJlZ3VJdGFsLm90Zg==.png',\n",
       " 'QmFza2VydmxsZTIgQlQgUm9tYW4udHRm.png',\n",
       " 'QmFzaWMgU2FucyBIZWF2eSBTRiBCb2xkLnR0Zg==.png',\n",
       " 'QmFzaWMgU2FucyBTRiBCb2xkLnR0Zg==.png',\n",
       " 'QmFzc2V0dCBUaGluIEJvbGRJdGFsaWMudHRm.png',\n",
       " 'QmFzcXVlIFRoaW4gTm9ybWFsLnR0Zg==.png',\n",
       " 'QmFzZU1vbm9XaWRlVGhpbiBSZWd1bGFyLnR0Zg==.png',\n",
       " 'QmFzZU5pbmUgQm9sZC50dGY=.png',\n",
       " 'QmFzZU5pbmVCSS50dGY=.png',\n",
       " 'QmFzZU5pbmVTbWFsbENhcHMgQm9sZCBJdGFsaWMudHRm.png',\n",
       " 'QmFzZU5pbmVTQ0IudHRm.png',\n",
       " 'QmFzZVR3ZWx2ZVNlcmlmU0NCLnR0Zg==.png',\n",
       " 'Qml0c3RyZWFtIEFtZXJpZ28gQm9sZC5wZmI=.png',\n",
       " 'Qml0c3RyZWFtIEFtZXJpZ28gQm9sZCBJdGFsaWMucGZi.png',\n",
       " 'Qml0c3RyZWFtIEFycnVzIEJsYWNrLnBmYg==.png',\n",
       " 'Qml0c3RyZWFtIElvd2FuIE9sZCBTdHlsZS5wZmI=.png',\n",
       " 'Qml0c3RyZWFtIENoYXJ0ZXIgQmxhY2sgSXRhbGljIE9TRi5wZmI=.png',\n",
       " 'Qml0c3RyZWFtIENvb3BlciBMaWdodCBJdGFsaWMucGZi.png',\n",
       " 'Qml0c3RyZWFtIFZlcmEgU2FucyBNb25vIE9ibGlxdWUudHRm.png',\n",
       " 'Qml0c3RyZWFtIFZlcmEgU2VyaWYgQm9sZC50dGY=.png',\n",
       " 'Qml0d2lzZS50dGY=.png',\n",
       " 'Qml4bGVlLUhlYXZ5LnR0Zg==.png',\n",
       " 'Qml4bGVlQ25kLUhlYXZ5LnR0Zg==.png',\n",
       " 'Qmlja2hhbSBTY3JpcHQgVHdvLnR0Zg==.png',\n",
       " 'QmlndG93bmVCb2xkLnR0Zg==.png',\n",
       " 'QmlnIEJhY29uIFRyeW91dC50dGY=.png',\n",
       " 'Qmlqb3V4LUJvbGQub3Rm.png',\n",
       " 'QmlraW5pLnR0Zg==.png',\n",
       " 'QmlsbGJvYXJkIDExIENvbmRlbnNlZCBOb3JtYWwudHRm.png',\n",
       " 'QmlsbHV5LnR0Zg==.png',\n",
       " 'QmlsYm9EaXNwbGF5IEJvbGQgSXRhbGljLnR0Zg==.png',\n",
       " 'QmlubmVyRC50dGY=.png',\n",
       " 'QmluZ28ub3Rm.png',\n",
       " 'QmlvbmljIENvbWljIEV4cCBJdGFsaWMudHRm.png',\n",
       " 'QmlvbmljIFR5cGUgQ29uZGVuc2VkLnR0Zg==.png',\n",
       " 'QmlvbWVjaGFuaWMudHRm.png',\n",
       " 'QmlyZC50dGY=.png',\n",
       " 'QmV0b25FRi1FeHRyYUJvbGQub3Rm.png',\n",
       " 'QmV0dGVyIE9mZiAxLnR0Zg==.png',\n",
       " 'QmV0dGVyS2FtcCBCb2xkSXRhbGljLnR0Zg==.png',\n",
       " 'QmV0dGVySW5ncmlhbmEgSXRhbGljLnR0Zg==.png',\n",
       " 'QmV0dGVyVHlwZVJpZ2h0IEJvbGRJdGFsaWMudHRm.png',\n",
       " 'QmV0YSBCbG9jay50dGY=.png',\n",
       " 'QmV0YVNlbWktQm9sZC5vdGY=.png',\n",
       " 'QmV0YWNhcGl0YWwudHRm.png',\n",
       " 'QmVhbSBSaWRlciBFeHBhbmRlZC50dGY=.png',\n",
       " 'QmVhc3QudHRm.png',\n",
       " 'QmVhckJ1dHRlVCBQbGFpbi50dGY=.png',\n",
       " 'QmVhdG5pa0hheXNlZWQudHRm.png',\n",
       " 'QmVhdSBUaGluIEl0YWxpYy50dGY=.png',\n",
       " 'QmVhdXJlZ2FyZCBEaXNwbGF5IFNTaS50dGY=.png',\n",
       " 'QmVhY2ggVGhpbiBCb2xkLnR0Zg==.png',\n",
       " 'QmVjY2FyaWEudHRm.png',\n",
       " 'QmVla21hbi1TcXVhcmVCb2xkLm90Zg==.png',\n",
       " 'QmVla21hbi1TcXVhcmVSZWd1bGFyLm90Zg==.png',\n",
       " 'QmVlc2tuZWVzIFNDIElUQyBUVC50dGY=.png',\n",
       " 'QmVlc2tuZWVzQy5vdGY=.png',\n",
       " 'QmVldGhhbS1MaWdodC5vdGY=.png',\n",
       " 'QmVsaXppb0JvbGQub3Rm.png',\n",
       " 'QmVsbEdvdGhpY1N0ZC1CbGFjay5vdGY=.png',\n",
       " 'QmVsbENlbnQgU3ViQ2FwIEJUIFN1Yi1DYXB0aW9uLnR0Zg==.png',\n",
       " 'QmVsbENlbnRlbm5pYWwtTmFtZUFuZE51bWJlci5vdGY=.png',\n",
       " 'QmVsbGFteUV4dHJhQm9sZC5vdGY=.png',\n",
       " 'QmVsbGhvcE5GLnR0Zg==.png',\n",
       " 'QmVsd2VFRi1Cb2xkLm90Zg==.png',\n",
       " 'QmVsd2VFRi1Cb2xkQ29uZGVuc2VkLm90Zg==.png',\n",
       " 'QmVsd2VTdGQtTGlnaHRJdGFsaWMub3Rm.png',\n",
       " 'QmVsdWNpYW4tRGVtaUJvbGQub3Rm.png',\n",
       " 'QmVtYm8gTU9OT1RZUEUgRXhwZXJ0IEJvbGQgT3NGLnR0Zg==.png',\n",
       " 'QmVtYm8tU0Mub3Rm.png',\n",
       " 'QmVtYm9JbmZhbnRNVFN0ZC1Cb2xkSXQub3Rm.png',\n",
       " 'QmVtYm9UaXRsaW5nTVRTdGQub3Rm.png',\n",
       " 'QmVuZ3VpYXQgRnJpc2t5IEFUVC50dGY=.png',\n",
       " 'QmVuZ3VpYXRCUS1NZWRpdW0ub3Rm.png',\n",
       " 'QmVuZ3VpYXRDb25kZW5zZWRCUS1Cb29rSXRhbGljLm90Zg==.png',\n",
       " 'QmVuZ3VpYXRDb25kZW5zZWRCUS1NZWRpdW0ub3Rm.png',\n",
       " 'QmVuZ3VpYXRFRi1Cb2xkSXRhbGljLm90Zg==.png',\n",
       " 'QmVuZ3VpYXRHb3RoaWMtTWVkaXVtLm90Zg==.png',\n",
       " 'QmVuZ3VpYXRHb3RoaWNCUS1Cb2xkSXRhbGljLm90Zg==.png',\n",
       " 'QmVuZ3VpYXRHb3RoaWNCUS1NZWRpdW0ub3Rm.png',\n",
       " 'QmVuZ3VpYXRHb3RoaWNMVC1IZWF2eS5vdGY=.png',\n",
       " 'QmVuZ3VpYXRHb3RoaWNTdGQtTWVkaXVtLm90Zg==.png',\n",
       " 'QmVuZ3VpYXRJdGNURUUgQm9sZCBJdGFsaWMudHRm.png',\n",
       " 'QmVuZ3VpYXRJVENieUJULUJvb2tDb25kZW5zZWQub3Rm.png',\n",
       " 'QmVya2VsZXkgT2xkc3R5bGUgSXRhbGljLnR0Zg==.png',\n",
       " 'QmVya2VsZXlPbGRTdHlsZUVGLUJvbGRJdGFsaWMub3Rm.png',\n",
       " 'QmVya2VsZXlPbGRzdHlsZUJvbGQub3Rm.png',\n",
       " 'QmVya2VsZXlPbGRzdHlsZUlUQ2J5QlQtTWVkSXRhbC5vdGY=.png',\n",
       " 'QmVya2VsZXlTdGQtQm9vay5vdGY=.png',\n",
       " 'QmVybGluc2Fucy1Cb2xkRXhwZXJ0Lm90Zg==.png',\n",
       " 'QmVybGluIFNhbnMgRkIudHRm.png',\n",
       " 'QmVybGluU21hbGxDYXBzLnR0Zg==.png',\n",
       " 'QmVybGluZ0JRLVJlZ3VsYXIub3Rm.png',\n",
       " 'QmVybGluZ0JRLVNlbWlCb2xkLm90Zg==.png',\n",
       " 'QmVybGluZ0VGLVJlZ3VsYXIub3Rm.png',\n",
       " 'QmVybGluZXIgR3JvdGVzayBNZWRpdW0udHRm.png',\n",
       " 'QmVybGluZXJHcm90ZXNrLUxpZ2h0Lm90Zg==.png',\n",
       " 'QmVybmhhcmQgTW9kZXJuIEJULnR0Zg==.png',\n",
       " 'QmVybmhhcmQgTW9kZXJuIEJvbGQgSXRhbGljIEJULnR0Zg==.png',\n",
       " 'QmVybmhhcmRGYXNoaW9uIEJULnR0Zg==.png',\n",
       " 'QmVybmhhcmRNb2Rlcm5CUS1JdGFsaWMub3Rm.png',\n",
       " 'QmVybnlLbGluZ29uLnR0Zg==.png',\n",
       " 'QmVybnN0ZWluLURlbWlCb2xkLm90Zg==.png',\n",
       " 'QmVydGhhbS50dGY=.png',\n",
       " 'QmVydGhhbUJvbGQudHRm.png',\n",
       " 'QmVydGhvbGQgQWt6aWRlbnogR3JvdGVzayBCRSBCb2xkIEV4dGVuZGVkIEl0YWxpYy5wZmI=.png',\n",
       " 'QmVydGhvbGQgQWt6aWRlbnogR3JvdGVzayBCRSBFeHRlbmRlZC5wZmI=.png',\n",
       " 'QmVydGhvbGQgV2FsYmF1bSBCb29rIE1lZGl1bSBJdGFsaWMgT2xkc3R5bGUgRmlndXJlcy5wZmI=.png',\n",
       " 'QmVydHJhbS50dGY=.png',\n",
       " 'Qmx1ZUFyc2VuYWxPbmUudHRm.png',\n",
       " 'Qmxhc3RlciBJbmZpbml0ZS50dGY=.png',\n",
       " 'Qmxhdmlja2UgQ2FwaXRhbHMgU2VtaS1leHBhbmRlZCBSZWd1bGFyLnR0Zg==.png',\n",
       " 'QmxhY2tCZWFyZC5vdGY=.png',\n",
       " 'QmxhY2thZGRlciBJVEMgVFQudHRm.png',\n",
       " 'QmxhY2tmb3JkIE9sZFN0eWxlIFNTaSBTbWFsbCBDYXBzLnR0Zg==.png',\n",
       " 'QmxhY2tsZXR0ZXIgSFBMSFMudHRm.png',\n",
       " 'QmxhZGUudHRm.png',\n",
       " 'QmxhZGVDdXRUaHJ1LnR0Zg==.png',\n",
       " 'QmxldyBFeHRlbmRlZCBJdGFsaWMudHRm.png',\n",
       " 'QmxldyBXaWRlIEJvbGQgSXRhbGljLnR0Zg==.png',\n",
       " 'QmxpbmRmaXNoTGlnaHQub3Rm.png',\n",
       " 'Qmxpc3MgQm9sZC50dGY=.png',\n",
       " 'Qmxpc3MgRXh0ZW5kZWQgTm9ybWFsLnR0Zg==.png',\n",
       " 'QmxpcHBvIEJsYWNrLnBmYg==.png',\n",
       " 'Qmxvb2R5LnR0Zg==.png',\n",
       " 'QmxvdHRvb280MG96LnR0Zg==.png',\n",
       " 'QmxvY0Mub3Rm.png',\n",
       " 'QmxvY2tCRS1SZWd1bGFyLm90Zg==.png',\n",
       " 'QmxvY2tVcC50dGY=.png',\n",
       " 'QnJ1aG5TY3JpcHQtU3RyYWlnaHRlbmVkLm90Zg==.png',\n",
       " 'QnJ1aXNlZCBUd2VudHlGaXZlLnR0Zg==.png',\n",
       " 'QnJ1bm9KQi5vdGY=.png',\n",
       " 'QnJ1c2g0NTUgQlQudHRm.png',\n",
       " 'QnJ1c2ggNDQ1IEJULnR0Zg==.png',\n",
       " 'QnJ1c2hCUS5vdGY=.png',\n",
       " 'QnJ1c2hTY3JpcHRCVC1SZWd1bGFyLm90Zg==.png',\n",
       " 'QnJ1c2htYW4udHRm.png',\n",
       " 'QnJ1Y2VzSGFuZCBSZWd1bGFyLnR0Zg==.png',\n",
       " 'QnJhaW5oZWFkLnR0Zg==.png',\n",
       " 'QnJhbmRpbmcgSXJvbi50dGY=.png',\n",
       " 'QnJhbmRvIEJvbGRJdGFsaWMudHRm.png',\n",
       " 'QnJhbmRvIENvbmRlbnNlZCBOb3JtYWwudHRm.png',\n",
       " 'QnJhbmRvIEVuZ3JhdmVkIENvbmRlbnNlZCBCb2xkLnR0Zg==.png',\n",
       " 'QnJhc3NldHRfQm9sZC50dGY=.png',\n",
       " 'QnJhc3NmaWVsZCBSZWd1bGFyLnR0Zg==.png',\n",
       " 'QnJlbGEtVGhpbi50dGY=.png',\n",
       " 'QnJlYWtiZWF0IEJUTiBPdXRsaW5lLnR0Zg==.png',\n",
       " 'QnJpb3NvUHJvLUJvbGRJdERpc3Aub3Rm.png',\n",
       " 'QnJpbmcgdGhhIG5vaXplLnR0Zg==.png',\n",
       " 'QnJpc2sudHRm.png',\n",
       " 'QnJpZGdld29ya0EudHRm.png',\n",
       " 'QnJpZGdld29yay5vdGY=.png',\n",
       " 'QnJpZGdub3J0aF9CbG9ja2VkLnR0Zg==.png',\n",
       " 'QnJpZW1Ba2FkZW1pU3RkLVJlZ3VsYXIub3Rm.png',\n",
       " 'QnJpZW1TY3JpcHRTdGQtQm9sZC5vdGY=.png',\n",
       " 'QnJpZW1TY3JpcHRTdGQtQmxhY2sub3Rm.png',\n",
       " 'QnJpZWluY2FybmF0aW9uLnR0Zg==.png',\n",
       " 'QnJvdGhlcnNTdXBlclNsYW50Lm90Zg==.png',\n",
       " 'QnJvY2h1cmUudHRm.png',\n",
       " 'QnJvYWR3YXlFbmdyYXZlZEJULVJlZ3VsYXIub3Rm.png',\n",
       " 'QnJvYWR3YXlGb250Lm90Zg==.png',\n",
       " 'QnJvYWR3YXlNVFN0ZC5vdGY=.png',\n",
       " 'QnJvYWR3YXlPdXRELnR0Zg==.png',\n",
       " 'QnJvYWR3YXlQLnR0Zg==.png',\n",
       " 'QnJvZHkgUmVndWxhci50dGY=.png',\n",
       " 'Qnl0ZSBQb2xpY2UudHRm.png',\n",
       " 'QnV0dGVyZmx5IENocm9tb3NvbWUgQU9FLnR0Zg==.png',\n",
       " 'QnV6emVyVGhyZWVTdGQub3Rm.png',\n",
       " 'QnViYmFMb3ZlLUJvbGQub3Rm.png',\n",
       " 'QnViYmxlZG90SUNHRmluZVBvc2l0aXZlLnR0Zg==.png',\n",
       " 'QnVjY2FyZGlTdGQtQm9sZC5vdGY=.png',\n",
       " 'QnVkSGFuZCBSZWd1bGFyLnR0Zg==.png',\n",
       " 'QnVsbC1VbmRlcklua2VkLm90Zg==.png',\n",
       " 'QnVsbWVyLUl0bC5vdGY=.png',\n",
       " 'QnVsbWVyTVQtQm9sZERpc3BsYXkub3Rm.png',\n",
       " 'QnVsbWVyTVRTdGQtQm9sZERpc3BsYXkub3Rm.png',\n",
       " 'QnVuZHkgWWVsbG93IEhvbGxvd1NoYWRvd2VkLnR0Zg==.png',\n",
       " 'QnVyaW5TYW5zU3RkLm90Zg==.png',\n",
       " 'QnVyb2tyYXQtVGhyZWUub3Rm.png',\n",
       " 'QnVybm91dEEudHRm.png',\n",
       " 'QnVybmluZyBMaWdodC50dGY=.png',\n",
       " 'QnVyYmFua0JpZ1dpZGUtTGlnaHQub3Rm.png',\n",
       " 'QnVyYmFua0JpZ1JlZ3VsYXItQmxhY2sub3Rm.png',\n",
       " 'QnVyZWF1R3JvdFRocmVlU2V2ZW4ub3Rm.png',\n",
       " 'QnVzb3JhbWFMaWdodC5vdGY=.png',\n",
       " 'QnVzdGVyLUJvbGRDb25kZW5zZWQub3Rm.png',\n",
       " 'QSBNb2JpbGUgTGlmZS50dGY=.png',\n",
       " 'QUdCdWNoUm91bmRlZEJRLUJvbGRPdXRsaW5lLm90Zg==.png',\n",
       " 'QUdfQ29vcGVyIEl0YWxpYy50dGY=.png',\n",
       " 'QUdhcmFtb25kLUJvbGQub3Rm.png',\n",
       " 'QUdPbGRGYWNlQlEtQm9sZE91dGxpbmUub3Rm.png',\n",
       " 'QUdPbGRGYWNlQlEtT3V0bGluZS5vdGY=.png',\n",
       " 'QUdSZXZ1ZUN5ciBSb21hbiBNZWRpdW0udHRm.png',\n",
       " 'QUJTNy50dGY=.png',\n",
       " 'QUJTOS50dGY=.png',\n",
       " 'QUNhc2xvbi1SZWd1bGFyU0Mub3Rm.png',\n",
       " 'QUplbnNvblByby1Cb2xkLm90Zg==.png',\n",
       " 'QURNT05PLVJlZ3VsYXIudHRm.png',\n",
       " 'QUxFWDIub3Rm.png',\n",
       " 'QUZDYXJwbGF0ZXMtQm9sZC5vdGY=.png',\n",
       " 'QVRaYXBmSW50ZXJuYXRpb25hbC1MaWdodEl0Lm90Zg==.png',\n",
       " 'QVRCcmFtbGV5LU1lZGl1bS5vdGY=.png',\n",
       " 'QVRTbGltYmFjaC1NZWRpdW1JdGFsaWMub3Rm.png',\n",
       " 'QW10eXBlLnR0Zg==.png',\n",
       " 'QW1hbmRhc0hhbmQgUmVndWxhci50dGY=.png',\n",
       " 'QW1hc2lzIE1UIEJvbGQudHRm.png',\n",
       " 'QW1lbGlhTEwub3Rm.png',\n",
       " 'QW1lcmljYW4gUG9wIFBsYWluLnR0Zg==.png',\n",
       " 'QW1lcmljYW4gVHlwZXdyaXRlciBNZWRpdW0gQlQudHRm.png',\n",
       " 'QW1lcmljYW5Hb3RVUldUTWVkIEl0YWxpYy50dGY=.png',\n",
       " 'QW1lcmljYW5hLUJvbGQub3Rm.png',\n",
       " 'QW1lcmljYW5hU3RkLUJvbGQub3Rm.png',\n",
       " 'QW1lcmljYW5HYXJhbW9uZEJULUl0YWxpYy5vdGY=.png',\n",
       " 'QW1lcmljYW5UeXBld3JpdGVyLUxpZ2h0Q29uZEEub3Rm.png',\n",
       " 'QW1lcmljYW5UeXBld3JpdGVyQ29uQlEtQm9sZC5vdGY=.png',\n",
       " 'QW1lcmljYW5UeXBld3JpdGVyQlEtQm9sZEl0YWxpYy5vdGY=.png',\n",
       " 'QW1lcmljYW5UeXBld3JpdGVyQlEtTWVkaXVtLm90Zg==.png',\n",
       " 'QW1lcmljYW5UeXBld3JpdGVyTFQtTGlnaHRBLm90Zg==.png',\n",
       " 'QW1lcmljYW5UeXBld3JpdGVyU3RkLUx0Q25kLm90Zg==.png',\n",
       " 'QW1lcmljYW5UeXBlQm9sZC5vdGY=.png',\n",
       " 'QW1lcmlnbyBCVCBCb2xkIEl0YWxpYy50dGY=.png',\n",
       " 'QW1lcmlnbyBCVCBCb2xkLnR0Zg==.png',\n",
       " 'QW1lcmV0dG8gV2lkZSBCb2xkLnR0Zg==.png',\n",
       " 'QW1pbnRhQm9sZC50dGY=.png',\n",
       " 'QW1UeXBld3JpdGVyRUYtQm9sZEl0YWxpYy5vdGY=.png',\n",
       " 'QW1UeXBld3JpdGVyRUYtTGlnaHQub3Rm.png',\n",
       " 'QW1vcyBFeHRlbmRlZCBJdGFsaWMudHRm.png',\n",
       " 'QW1wb3VsZSBIZWF2eS50dGY=.png',\n",
       " 'QW1wbGl0dWRlQ29tcC1MaWdodC50dGY=.png',\n",
       " 'QW1wbGl0dWRlQ29tcC1VbHRyYS50dGY=.png',\n",
       " 'QW1wbGl0dWRlRXh0cmFDb21wLU1lZGl1bS50dGY=.png',\n",
       " 'QW1wbGl0dWRlRXh0cmFDb21wLUJvbGQudHRm.png',\n",
       " 'QW1wbGlmaWVyQm9sZEV4dGVuc2lvbnMub3Rm.png',\n",
       " 'QW1wbGlmaWVyTGlnaHRTbWFsbENhcHMub3Rm.png',\n",
       " 'QW4gaXJyaXRhdGluZyBzcGVjay50dGY=.png',\n",
       " 'QW50aHJvUG9zb3BoLUJvbGQudHRm.png',\n",
       " 'QW50aW1vbnlCbHVlLm90Zg==.png',\n",
       " 'QW50aXF1YSAxMDEgQ29uZGVuc2VkIEl0YWxpYy50dGY=.png',\n",
       " 'QW50aXF1YSAxMDEgTm9ybWFsLnR0Zg==.png',\n",
       " 'QW50aXF1YSAxMDEgV2lkZSBCb2xkLnR0Zg==.png',\n",
       " 'QW50aXF1ZSBPbGl2ZSBCbGFjay5wZmI=.png',\n",
       " 'QW50aXF1ZU1vZGVybmUtUmVndWxhci5vdGY=.png',\n",
       " 'QW50aXF1ZU9saVNDVC1SZWd1Lm90Zg==.png',\n",
       " 'QW50aXF1ZU9saVQtQ29tcEl0YWwub3Rm.png',\n",
       " 'QW50aXF1ZU9saVQtQm9sZENvbmRJbjEub3Rm.png',\n",
       " 'QW50aXF1ZU9saXZlLUl0YWxpYy5vdGY=.png',\n",
       " 'QW50aXF1ZU9saXZlU3RkLUl0YWxpYy5vdGY=.png',\n",
       " 'QW50aXF1ZUFuY2llbm5lQ0UtSXRhbGljLm90Zg==.png',\n",
       " 'QW5Ba3JvbmlzbS50dGY=.png',\n",
       " 'QW5hbGdlc2ljcy50dGY=.png',\n",
       " 'QW5hcmNoaXN0aWMudHRm.png',\n",
       " 'QW5hdG9sZSBEaXNwbGF5IFNTaS50dGY=.png',\n",
       " 'QW5kcmV3QW5keUthY3R1cy50dGY=.png',\n",
       " 'QW5kcmV3U2NyaXB0LnR0Zg==.png',\n",
       " 'QW5kYWxlTW9ub01UU3RkLUJvbGQub3Rm.png',\n",
       " 'QW5kZXJzb24ub3Rm.png',\n",
       " 'QW5nbG8tU2F4b24gQ2Fwcy50dGY=.png',\n",
       " 'QW5nZWwgRm9udC50dGY=.png',\n",
       " 'QW5nZWxvLm90Zg==.png',\n",
       " 'QW5pc2V0dGUtTGlnaHQub3Rm.png',\n",
       " 'QW5uYSBJQ0cudHRm.png',\n",
       " 'QW5uYWJlbGxlIEpGLnR0Zg==.png',\n",
       " 'QWdlbmN5RkItQm9sZENvbmRlbnNlZC5vdGY=.png',\n",
       " 'QWdlbmN5RkItQmxhY2tDb25kZW5zZWQub3Rm.png',\n",
       " 'QWdlbmRhdHlwZS1SZWd1bGFyLm90Zg==.png',\n",
       " 'QWdlbmRhdHlwZVN3YXNoLUJvbGRJdGFsaWMub3Rm.png',\n",
       " 'QWdlbmRhLUxpZ2h0Lm90Zg==.png',\n",
       " 'QWdlbmRhLUxpZ2h0RXh0cmFDb25kZW5zZWQub3Rm.png',\n",
       " 'QWdmYVdpbGVSb21hblN0ZC1Cb2xkLm90Zg==.png',\n",
       " 'QWdmYVJvdGlzU2Fuc1NlcmlmRXh0cmFCb2xkLm90Zg==.png',\n",
       " 'QWdmYVJvdGlzU2VtaXNhbnNMaWdodC1JdGFsaWMub3Rm.png',\n",
       " 'QWdmYVJvdGlzU2VyaWYub3Rm.png',\n",
       " 'QWF1eCBQcm9NZWRpdW0gSXRhbGljIE9TRi50dGY=.png',\n",
       " 'QWF1eCBQcm9SZWd1bGFyIEl0YWxpYyBTQy50dGY=.png',\n",
       " 'QWF1eCBQcm9UaGluIE9TRi50dGY=.png',\n",
       " 'QWFiY2VkIFJlZ3VsYXIudHRm.png',\n",
       " 'QWFiY2VkWEJvbGQudHRm.png',\n",
       " 'QWFjaGVuIExUIEJvbGQudHRm.png',\n",
       " 'QWFjaGVuLnBmYg==.png',\n",
       " 'QWFyb25Cb2xkLnR0Zg==.png',\n",
       " 'QWFyZHZhcmstUmVndWxhci5vdGY=.png',\n",
       " 'QWhhcm9uaSBCb2xkKDEpLnR0Zg==.png',\n",
       " 'QWJhZGkgTVQgQ29uZGVuc2VkIExpZ2h0LnR0Zg==.png',\n",
       " 'QWJhZGlNVFN0ZC1Cb2xkSXRhbGljLm90Zg==.png',\n",
       " 'QWJhZGlNVFN0ZC1FeHRyYUxpZ2h0Lm90Zg==.png',\n",
       " 'QWJiZXkgTWVkaXVtIEV4dGVuZGVkLnR0Zg==.png',\n",
       " 'QWJjUGhvbmljc1R3by50dGY=.png',\n",
       " 'QWJkdWN0aW9uMjAwMi50dGY=.png',\n",
       " 'QWJpbGVuZUZMRi5vdGY=.png',\n",
       " 'QWluc2RhbGUtQm9sZEl0YWxpYy5vdGY=.png',\n",
       " 'QWlybGluZS1Ob3JtYWwub3Rm.png',\n",
       " 'QWlybGluZS5vdGY=.png',\n",
       " 'QWlybW9sZSBBbnRpcXVlLnR0Zg==.png',\n",
       " 'QWlyIEZsb3cgQlROIEh2IE9ibGlxdWUudHRm.png',\n",
       " 'QWlyIEZsb3cgQlROIEx0IE9ibGlxdWUudHRm.png',\n",
       " 'QWlyYWNvYnJhIExlZnRhbGljLnR0Zg==.png',\n",
       " 'QWlyZm9pbCBTY3JpcHQgU1NpLnR0Zg==.png',\n",
       " 'QWlyZWRhbGUtUmVndWxhci5vdGY=.png',\n",
       " 'QWN0aW9uIE1hbiBTaGFkZWQudHRm.png',\n",
       " 'QWN0aW9uIElzLCBXaWRlciBKTC50dGY=.png',\n",
       " 'QWN0aXZhIFRoKDEpLnR0Zg==.png',\n",
       " 'QWNhbnRodXMgU1NpIEl0YWxpYy50dGY=.png',\n",
       " 'QWNoaWxsZXNCbHVyTGlnaHQtRXh0ZW5kZWQub3Rm.png',\n",
       " 'QWNoZSBUaGluLnR0Zg==.png',\n",
       " 'QWNyb3RlcmlvbiBKRi50dGY=.png',\n",
       " 'QWR2ZW50dXJlciBMaWdodCBTRi50dGY=.png',\n",
       " 'QWR2ZXJ0aXNlcnNHb3RoaWNMaWdodC1SZWd1bGFyLnR0Zg==.png',\n",
       " 'QWR2ZXJ0Um91Z2gtT25lLm90Zg==.png',\n",
       " 'QWRhbXMgVGhpbiBJdGFsaWMudHRm.png',\n",
       " 'QWRlbG9uLURlbWlCb2xkLm90Zg==.png',\n",
       " 'QWRlbG9uLURlbWlCb2xkSXRhLm90Zg==.png',\n",
       " 'QWRpbmVLaXJuYmVyZyBSZWd1bGFyKDEpLnR0Zg==.png',\n",
       " 'QWRsZXIudHRm.png',\n",
       " 'QWRvYmVBcmFiaWMtQm9sZEl0YWxpYy5vdGY=.png',\n",
       " 'QWRvYmVDb3JwSUQtTWluaW9uQmQub3Rm.png',\n",
       " 'QWRvYmVDb3JwSUQtTWluaW9uU2Iub3Rm.png',\n",
       " 'QWRyZW5hbGluLm90Zg==.png',\n",
       " 'QWRyZW5hbGluZSBaZXJvLnR0Zg==.png',\n",
       " 'QWt6aWRlbnotR3JvdGVzayAoUikgU2NodWxidWNoIDIgUmVndWxhci50dGY=.png',\n",
       " 'QWt6aWRlbnpHcm90RXh0QlEtUmVndWxhci5vdGY=.png',\n",
       " 'QWt6aWRlbnpHcm90ZXNrLUJsYWNrLm90Zg==.png',\n",
       " 'QWt6aWRlbnpHcm90ZXNrQkUtTWQub3Rm.png',\n",
       " 'QWt6aWRlbnpHcm90ZXNrQkUtWEJkQ25JdC5vdGY=.png',\n",
       " 'QWt6aWRlbnpHcm90ZXNrRXhwZXJ0QlEtTGlnaHRPc0Yub3Rm.png',\n",
       " 'QWVvc0xpZ2F0dXJlLm90Zg==.png',\n",
       " 'QWx0ZVNjaEQub3Rm.png',\n",
       " 'QWxiYXRyb3NzLnR0Zg==.png',\n",
       " 'QWxiZXJ0dXMgTVQucGZi.png',\n",
       " 'QWxiZXJ0YSBSZWd1bGFyLnR0Zg==.png',\n",
       " 'QWxiZXJ0YW5Cb2xkTC5vdGY=.png',\n",
       " 'QWxkaW5lIDcyMSBCb2xkLnBmYg==.png',\n",
       " 'QWxkaW5lNzIxQlQtQm9sZENvbmRlbnNlZC5vdGY=.png',\n",
       " 'QWxlbWJpY0JldGEtUmVndWxhclR3by5vdGY=.png',\n",
       " 'QWxleHVzcyBIZWF2eSBIb2xsb3cgQ29uZGVuc2VkLnR0Zg==.png',\n",
       " 'QWxpeDIudHRm.png',\n",
       " 'QWxpZW4gTWFya3NtYW5SZWd1bGFyLnR0Zg==.png',\n",
       " 'QWxsdXJlQm9sZEFsdFNwYWNlLm90Zg==.png',\n",
       " 'QWxtb250ZS50dGY=.png',\n",
       " 'QWxtb3N0IEhlYXZlbiBORi50dGY=.png',\n",
       " 'QWxvciBDb25kZW5zZWQgQm9sZC50dGY=.png',\n",
       " 'QWxvZSBJdGFsaWMudHRm.png',\n",
       " 'QWxwaGEgRmxpZ2h0IFNvbGlkIFNtYWxsIENhcHMudHRm.png',\n",
       " 'QWxwaGEgRmxpZ2h0LnR0Zg==.png',\n",
       " 'QWxwaGFiZXRTb3VwQlQtVGlsdC5vdGY=.png',\n",
       " 'QXBleFNlcmlmLUJvb2tJdGFsaWMub3Rm.png',\n",
       " 'QXBvbGxvIFJlZ3VsYXIudHRm.png',\n",
       " 'QXBvbGxvLVNlbWlCb2xkLm90Zg==.png',\n",
       " 'QXBvbGxvOS50dGY=.png',\n",
       " 'QXBvbGxvTVQtU0Mub3Rm.png',\n",
       " 'QXBvbGxvTVQtU2VtaUJvbGQub3Rm.png',\n",
       " 'QXBwbGUgR2FyYW1vbmQgQlQgQm9sZC50dGY=.png',\n",
       " 'QXBwbGUgR2FyYW1vbmQgQm9vayBCVC50dGY=.png',\n",
       " 'QXdha2VuLnR0Zg==.png',\n",
       " 'QXF1aXRhaW5lIEluaXRpYWxzIElDRy50dGY=.png',\n",
       " 'QXJ0aWZpY2VTU0sudHRm.png',\n",
       " 'QXJ0aXN0YS50dGY=.png',\n",
       " 'QXJjaGUgQmxhY2sgQ29uZGVuc2VkIFNTaSBCbGFjayBDb25kZW5zZWQudHRm.png',\n",
       " 'QXJjdHVydXMub3Rm.png',\n",
       " 'QXJnZW50YSBCb2xkLnR0Zg==.png',\n",
       " 'QXJpc3RvY3JhdFN0ZC5vdGY=.png',\n",
       " 'QXJpYWwgQ0UgQm9sZC50dGY=.png',\n",
       " 'QXJpYWwgSEMudHRm.png',\n",
       " 'QXJpYWxNb25vc3BhY2VkTVRTdGQtT2JsaXF1ZS5vdGY=.png',\n",
       " 'QXJpYWxNVFN0ZC1FeHRyYUJvbGRJdC5vdGY=.png',\n",
       " 'QXJpYWxNVFN0ZC1MaWdodEl0YWxpYy5vdGY=.png',\n",
       " 'QXJpYWxNVFN0ZC5vdGY=.png',\n",
       " 'QXJpYWxSb3VuZGVkTVRTdGQtQm9sZC5vdGY=.png',\n",
       " 'QXJpZCBJVEMudHRm.png',\n",
       " 'QXJpZElUQy5vdGY=.png',\n",
       " 'QXJrb25hIFJlZ3VsYXIucGZi.png',\n",
       " 'QXJteSBDb25kZW5zZWQudHRm.png',\n",
       " 'QXJteSBFeHBhbmRlZC50dGY=.png',\n",
       " 'QXJtYWRhLUJsYWNrQ29tcHJlc3NlZC5vdGY=.png',\n",
       " 'QXJtYWRhLUxpZ2h0Q29tcHJlc3NlZC5vdGY=.png',\n",
       " 'QXJtZW5zY2hyaWZ0LnR0Zg==.png',\n",
       " 'QXJub3ZhSVRDIFRULnR0Zg==.png',\n",
       " 'QXJyaWJhQXJyaWJhU3RkLm90Zg==.png',\n",
       " 'QXJyb3dFeHRyYUJvbGQub3Rm.png',\n",
       " 'QXJydXNPU0ZCVC1Cb2xkLm90Zg==.png',\n",
       " 'QXJydXNPU0ZCVC1Sb21hbi5vdGY=.png',\n",
       " 'QXN0aWdtYSBSZWd1bGFyLnR0Zg==.png',\n",
       " 'QXN0cm9PYmxpcXVlLnR0Zg==.png',\n",
       " 'QXN0cm9uIEJveSBWaWRlby50dGY=.png',\n",
       " 'QXN0cmlkIFNob3J0LnR0Zg==.png',\n",
       " 'QXN0dXRlIEl0YWxpYy50dGY=.png',\n",
       " 'QXN0dXRlIFNTaSBCb2xkLnR0Zg==.png',\n",
       " 'QXNobGV5Q3Jhd2ZvcmRNVFN0ZC5vdGY=.png',\n",
       " 'QXNzZW1ibHlMaWdodFNTSy50dGY=.png',\n",
       " 'QXRoZW5hZXVtU3RkLUJvbGQub3Rm.png',\n",
       " 'QXRpbGxhIFdpZGUgTm9ybWFsLnR0Zg==.png',\n",
       " 'QXRsYW50aXggU1NpIFNlbWkgQm9sZCBJdGFsaWMudHRm.png',\n",
       " 'QXRsYXMgb2YgdGhlIE1hZ2kudHRm.png',\n",
       " 'QXRtb3NwaGVyZUlUQ1N0ZC5vdGY=.png',\n",
       " 'QXV0b21hdGljUmVndWxhckV4cGVydC5vdGY=.png',\n",
       " 'QXV0b3RyYWNlLUZpdmUub3Rm.png',\n",
       " 'QXV0bzEtQmxhY2tJdGFsaWNMRi50dGY=.png',\n",
       " 'QXV0bzEtSXRhbGljTEYudHRm.png',\n",
       " 'QXV0bzItSXRhbGljLnR0Zg==.png',\n",
       " 'QXVndXN0LUxpZ2h0Lm90Zg==.png',\n",
       " 'QXVndXN0YUNhbmNlbGxhcmVzY2FTdGQtUmVnLm90Zg==.png',\n",
       " 'QXVndXN0YVN0ZC1SZWd1bGFyLm90Zg==.png',\n",
       " 'QXVndXN0YVNjaG51cmtsU3RkLVJlZy5vdGY=.png',\n",
       " 'QXVyaW9sLUJvbGRJdGFsaWMub3Rm.png',\n",
       " 'QXVyaW9sTFRTdGQtQmxhY2tJdGFsaWMub3Rm.png',\n",
       " 'QXVyaW9sTFRTdGQtSXRhbGljLm90Zg==.png',\n",
       " 'QXVyYS1PdXRsaW5lT2JsaXF1ZS5vdGY=.png',\n",
       " 'QXVyZWFVbHRyYS1JdGFsaWMub3Rm.png',\n",
       " 'QXVyZWxpYUVGLUJvb2tJdGFsaWMub3Rm.png',\n",
       " 'QXZhbG9uLm90Zg==.png',\n",
       " 'QXZhbnRHYXJkRUYtRGVtaS5vdGY=.png',\n",
       " 'QXZhbnRHYXJkRUYtRXh0cmFMaWdodC5vdGY=.png',\n",
       " 'QXZhbnRHYXJkZS1Db25kQm9vay5vdGY=.png',\n",
       " 'QXZhbnRHYXJkZUJRLU1lZGl1bU9ibGlxdWUub3Rm.png',\n",
       " 'QXZhbnRHYXJkZUlUQ1RUIERlbWlPYmxpcXVlLnR0Zg==.png',\n",
       " 'QXZhbnRHYXJkZUlUQ2J5QlQtQm9sZE9ibGlxdWUub3Rm.png',\n",
       " 'QXZhbnRHYXJkZUlUQ2J5QlQtQm9va09ibGlxdWUub3Rm.png',\n",
       " 'QXZhbnRHYXJkZUlUQ2J5QlQtRXh0cmFMaWdodE9ibC5vdGY=.png',\n",
       " 'QXZhbnRHYXJkZUlUQy1Cb29rT2JsaXF1ZS5vdGY=.png',\n",
       " 'QXZhbnRHYXJkZUV4dExpdElUQy1PYmxpcXVlLm90Zg==.png',\n",
       " 'QXZhbnRHYXJkZUxULUJvbGQub3Rm.png',\n",
       " 'QXZhbnRHYXJkZUxULUNvbmRCb29rLm90Zg==.png',\n",
       " 'QXZhbnRHYXJkZUxULUNvbmREZW1pLm90Zg==.png',\n",
       " 'QXZhbnRHYXJkZUxULURlbWkub3Rm.png',\n",
       " 'QXZhbnRHYXJkZVhMaWdodE9ibGlxdWUub3Rm.png',\n",
       " 'QXZlbmlyIDQ1IEJvb2sgT2JsaXF1ZS5wZmI=.png',\n",
       " 'QXZlbmlyIDY1IE1lZGl1bS5wZmI=.png',\n",
       " 'QXZlbmlyLU9ibGlxdWUub3Rm.png',\n",
       " 'QXZlcnlzSGFuZCBSZWd1bGFyLnR0Zg==.png',\n",
       " 'R0UgRWxlZ2FudFNjcmlwdC50dGY=.png',\n",
       " 'R290aGFtIE5pZ2h0cyBOb3JtYWwudHRm.png',\n",
       " 'R290aGFtUm91bmRlZC1Cb2xkSXRhbGljLm90Zg==.png',\n",
       " 'R290aGFtUm91bmRlZC1MaWdodEl0YWxpYy5vdGY=.png',\n",
       " 'R290aGljIDcyMCBCb2xkIEJULnR0Zg==.png',\n",
       " 'R290aGljIDcyMCBJdGFsaWMgQlQudHRm.png',\n",
       " 'R290aGljIDcyNSBCb2xkIEJULnR0Zg==.png',\n",
       " 'R290aGljIFNTaS50dGY=.png',\n",
       " 'R290aGljNzIwIEJUIEJvbGQgSXRhbGljLnR0Zg==.png',\n",
       " 'R290aGljNzIwIEJUIFJvbWFuLnR0Zg==.png',\n",
       " 'R290aGljNzIwIEx0IEJUIExpZ2h0LnR0Zg==.png',\n",
       " 'R290aGljODIxIENuIEJULnR0Zg==.png',\n",
       " ...]"
      ]
     },
     "execution_count": 24,
     "metadata": {},
     "output_type": "execute_result"
    }
   ],
   "source": [
    "# We get all file names\n",
    "fn = os.listdir(\"notMNIST_small/A/\")\n",
    "fn"
   ]
  },
  {
   "cell_type": "code",
   "execution_count": 35,
   "metadata": {
    "collapsed": false
   },
   "outputs": [
    {
     "data": {
      "image/png": "[encoded data removed]",
      "text/plain": [
       "<IPython.core.display.Image object>"
      ]
     },
     "metadata": {},
     "output_type": "display_data"
    },
    {
     "data": {
      "image/png": "[encoded data removed]",
      "text/plain": [
       "<IPython.core.display.Image object>"
      ]
     },
     "metadata": {},
     "output_type": "display_data"
    },
    {
     "data": {
      "image/png": "[encoded data removed]",
      "text/plain": [
       "<IPython.core.display.Image object>"
      ]
     },
     "metadata": {},
     "output_type": "display_data"
    },
    {
     "data": {
      "image/png": "[encoded data removed]",
      "text/plain": [
       "<IPython.core.display.Image object>"
      ]
     },
     "metadata": {},
     "output_type": "display_data"
    },
    {
     "data": {
      "image/png": "[encoded data removed]",
      "text/plain": [
       "<IPython.core.display.Image object>"
      ]
     },
     "metadata": {},
     "output_type": "display_data"
    },
    {
     "data": {
      "image/png": "[encoded data removed]",
      "text/plain": [
       "<IPython.core.display.Image object>"
      ]
     },
     "metadata": {},
     "output_type": "display_data"
    },
    {
     "data": {
      "image/png": "[encoded data removed]",
      "text/plain": [
       "<IPython.core.display.Image object>"
      ]
     },
     "metadata": {},
     "output_type": "display_data"
    },
    {
     "data": {
      "image/png": "[encoded data removed]",
      "text/plain": [
       "<IPython.core.display.Image object>"
      ]
     },
     "metadata": {},
     "output_type": "display_data"
    },
    {
     "data": {
      "image/png": "[encoded data removed]",
      "text/plain": [
       "<IPython.core.display.Image object>"
      ]
     },
     "metadata": {},
     "output_type": "display_data"
    },
    {
     "data": {
      "image/png": "[encoded data removed]",
      "text/plain": [
       "<IPython.core.display.Image object>"
      ]
     },
     "metadata": {},
     "output_type": "display_data"
    },
    {
     "data": {
      "image/png": "[encoded data removed]",
      "text/plain": [
       "<IPython.core.display.Image object>"
      ]
     },
     "metadata": {},
     "output_type": "display_data"
    },
    {
     "data": {
      "image/png": "[encoded data removed]",
      "text/plain": [
       "<IPython.core.display.Image object>"
      ]
     },
     "metadata": {},
     "output_type": "display_data"
    },
    {
     "data": {
      "image/png": "[encoded data removed]",
      "text/plain": [
       "<IPython.core.display.Image object>"
      ]
     },
     "metadata": {},
     "output_type": "display_data"
    },
    {
     "data": {
      "image/png": "[encoded data removed]",
      "text/plain": [
       "<IPython.core.display.Image object>"
      ]
     },
     "metadata": {},
     "output_type": "display_data"
    },
    {
     "data": {
      "image/png": "[encoded data removed]",
      "text/plain": [
       "<IPython.core.display.Image object>"
      ]
     },
     "metadata": {},
     "output_type": "display_data"
    },
    {
     "data": {
      "image/png": "[encoded data removed]",
      "text/plain": [
       "<IPython.core.display.Image object>"
      ]
     },
     "metadata": {},
     "output_type": "display_data"
    },
    {
     "data": {
      "image/png": "[encoded data removed]",
      "text/plain": [
       "<IPython.core.display.Image object>"
      ]
     },
     "metadata": {},
     "output_type": "display_data"
    },
    {
     "data": {
      "image/png": "[encoded data removed]",
      "text/plain": [
       "<IPython.core.display.Image object>"
      ]
     },
     "metadata": {},
     "output_type": "display_data"
    },
    {
     "data": {
      "image/png": "[encoded data removed]",
      "text/plain": [
       "<IPython.core.display.Image object>"
      ]
     },
     "metadata": {},
     "output_type": "display_data"
    },
    {
     "data": {
      "image/png": "[encoded data removed]",
      "text/plain": [
       "<IPython.core.display.Image object>"
      ]
     },
     "metadata": {},
     "output_type": "display_data"
    }
   ],
   "source": [
    "# Display first 20 images \n",
    "for file in fn[:20]:\n",
    "    path = 'notMNIST_small/A/' + file\n",
    "    display(Image(path))"
   ]
  },
  {
   "cell_type": "markdown",
   "metadata": {
    "colab_type": "text",
    "id": "PBdkjESPK8tw"
   },
   "source": [
    "Now let's load the data in a more manageable format. Since, depending on your computer setup you might not be able to fit it all in memory, we'll load each class into a separate dataset, store them on disk and curate them independently. Later we'll merge them into a single dataset of manageable size.\n",
    "\n",
    "We'll convert the entire dataset into a 3D array (image index, x, y) of floating point values, normalized to have approximately zero mean and standard deviation ~0.5 to make training easier down the road. \n",
    "\n",
    "A few images might not be readable, we'll just skip them."
   ]
  },
  {
   "cell_type": "code",
   "execution_count": 4,
   "metadata": {
    "cellView": "both",
    "colab": {
     "autoexec": {
      "startup": false,
      "wait_interval": 0
     },
     "output_extras": [
      {
       "item_id": 30
      }
     ]
    },
    "colab_type": "code",
    "collapsed": false,
    "executionInfo": {
     "elapsed": 399874,
     "status": "ok",
     "timestamp": 1444485886378,
     "user": {
      "color": "#1FA15D",
      "displayName": "Vincent Vanhoucke",
      "isAnonymous": false,
      "isMe": true,
      "permissionId": "05076109866853157986",
      "photoUrl": "//lh6.googleusercontent.com/-cCJa7dTDcgQ/AAAAAAAAAAI/AAAAAAAACgw/r2EZ_8oYer4/s50-c-k-no/photo.jpg",
      "sessionId": "2a0a5e044bb03b66",
      "userId": "102167687554210253930"
     },
     "user_tz": 420
    },
    "id": "h7q0XhG3MJdf",
    "outputId": "92c391bb-86ff-431d-9ada-315568a19e59"
   },
   "outputs": [
    {
     "name": "stdout",
     "output_type": "stream",
     "text": [
      "notMNIST_large/A.pickle already present - Skipping pickling.\n",
      "Pickling notMNIST_large/B.pickle.\n",
      "notMNIST_large/B\n",
      "Could not read: notMNIST_large/B/TmlraXNFRi1TZW1pQm9sZEl0YWxpYy5vdGY=.png : cannot identify image file 'notMNIST_large/B/TmlraXNFRi1TZW1pQm9sZEl0YWxpYy5vdGY=.png' - it's ok, skipping.\n",
      "Full dataset tensor: (52911, 28, 28)\n",
      "Mean: -0.00756303\n",
      "Standard deviation: 0.454491\n",
      "Pickling notMNIST_large/C.pickle.\n",
      "notMNIST_large/C\n",
      "Full dataset tensor: (52912, 28, 28)\n",
      "Mean: -0.142258\n",
      "Standard deviation: 0.439806\n",
      "Pickling notMNIST_large/D.pickle.\n",
      "notMNIST_large/D\n",
      "Could not read: notMNIST_large/D/VHJhbnNpdCBCb2xkLnR0Zg==.png : cannot identify image file 'notMNIST_large/D/VHJhbnNpdCBCb2xkLnR0Zg==.png' - it's ok, skipping.\n",
      "Full dataset tensor: (52911, 28, 28)\n",
      "Mean: -0.0573678\n",
      "Standard deviation: 0.455648\n",
      "Pickling notMNIST_large/E.pickle.\n",
      "notMNIST_large/E\n",
      "Full dataset tensor: (52912, 28, 28)\n",
      "Mean: -0.069899\n",
      "Standard deviation: 0.452942\n",
      "Pickling notMNIST_large/F.pickle.\n",
      "notMNIST_large/F\n",
      "Full dataset tensor: (52912, 28, 28)\n",
      "Mean: -0.125583\n",
      "Standard deviation: 0.44709\n",
      "Pickling notMNIST_large/G.pickle.\n",
      "notMNIST_large/G\n",
      "Full dataset tensor: (52912, 28, 28)\n",
      "Mean: -0.0945814\n",
      "Standard deviation: 0.44624\n",
      "Pickling notMNIST_large/H.pickle.\n",
      "notMNIST_large/H\n",
      "Full dataset tensor: (52912, 28, 28)\n",
      "Mean: -0.0685221\n",
      "Standard deviation: 0.454232\n",
      "Pickling notMNIST_large/I.pickle.\n",
      "notMNIST_large/I\n",
      "Full dataset tensor: (52912, 28, 28)\n",
      "Mean: 0.0307862\n",
      "Standard deviation: 0.468899\n",
      "Pickling notMNIST_large/J.pickle.\n",
      "notMNIST_large/J\n",
      "Full dataset tensor: (52911, 28, 28)\n",
      "Mean: -0.153358\n",
      "Standard deviation: 0.443656\n",
      "Pickling notMNIST_small/A.pickle.\n",
      "notMNIST_small/A\n",
      "Could not read: notMNIST_small/A/RGVtb2NyYXRpY2FCb2xkT2xkc3R5bGUgQm9sZC50dGY=.png : cannot identify image file 'notMNIST_small/A/RGVtb2NyYXRpY2FCb2xkT2xkc3R5bGUgQm9sZC50dGY=.png' - it's ok, skipping.\n",
      "Full dataset tensor: (1872, 28, 28)\n",
      "Mean: -0.132626\n",
      "Standard deviation: 0.445128\n",
      "Pickling notMNIST_small/B.pickle.\n",
      "notMNIST_small/B\n",
      "Full dataset tensor: (1873, 28, 28)\n",
      "Mean: 0.00535609\n",
      "Standard deviation: 0.457115\n",
      "Pickling notMNIST_small/C.pickle.\n",
      "notMNIST_small/C\n",
      "Full dataset tensor: (1873, 28, 28)\n",
      "Mean: -0.141521\n",
      "Standard deviation: 0.44269\n",
      "Pickling notMNIST_small/D.pickle.\n",
      "notMNIST_small/D\n",
      "Full dataset tensor: (1873, 28, 28)\n",
      "Mean: -0.0492167\n",
      "Standard deviation: 0.459759\n",
      "Pickling notMNIST_small/E.pickle.\n",
      "notMNIST_small/E\n",
      "Full dataset tensor: (1873, 28, 28)\n",
      "Mean: -0.0599148\n",
      "Standard deviation: 0.45735\n",
      "Pickling notMNIST_small/F.pickle.\n",
      "notMNIST_small/F\n",
      "Could not read: notMNIST_small/F/Q3Jvc3NvdmVyIEJvbGRPYmxpcXVlLnR0Zg==.png : cannot identify image file 'notMNIST_small/F/Q3Jvc3NvdmVyIEJvbGRPYmxpcXVlLnR0Zg==.png' - it's ok, skipping.\n",
      "Full dataset tensor: (1872, 28, 28)\n",
      "Mean: -0.118185\n",
      "Standard deviation: 0.452279\n",
      "Pickling notMNIST_small/G.pickle.\n",
      "notMNIST_small/G\n",
      "Full dataset tensor: (1872, 28, 28)\n",
      "Mean: -0.0925503\n",
      "Standard deviation: 0.449006\n",
      "Pickling notMNIST_small/H.pickle.\n",
      "notMNIST_small/H\n",
      "Full dataset tensor: (1872, 28, 28)\n",
      "Mean: -0.0586893\n",
      "Standard deviation: 0.458759\n",
      "Pickling notMNIST_small/I.pickle.\n",
      "notMNIST_small/I\n",
      "Full dataset tensor: (1872, 28, 28)\n",
      "Mean: 0.0526451\n",
      "Standard deviation: 0.471894\n",
      "Pickling notMNIST_small/J.pickle.\n",
      "notMNIST_small/J\n",
      "Full dataset tensor: (1872, 28, 28)\n",
      "Mean: -0.151689\n",
      "Standard deviation: 0.448014\n"
     ]
    }
   ],
   "source": [
    "image_size = 28  # Pixel width and height.\n",
    "pixel_depth = 255.0  # Number of levels per pixel.\n",
    "\n",
    "def load_letter(folder, min_num_images):\n",
    "  \"\"\"Load the data for a single letter label.\"\"\"\n",
    "  image_files = os.listdir(folder)\n",
    "  dataset = np.ndarray(shape=(len(image_files), image_size, image_size),\n",
    "                         dtype=np.float32)\n",
    "  print(folder)\n",
    "  num_images = 0\n",
    "  for image in image_files:\n",
    "    image_file = os.path.join(folder, image)\n",
    "    try:\n",
    "      image_data = (ndimage.imread(image_file).astype(float) - \n",
    "                    pixel_depth / 2) / pixel_depth\n",
    "      if image_data.shape != (image_size, image_size):\n",
    "        raise Exception('Unexpected image shape: %s' % str(image_data.shape))\n",
    "      dataset[num_images, :, :] = image_data\n",
    "      num_images = num_images + 1\n",
    "    except IOError as e:\n",
    "      print('Could not read:', image_file, ':', e, '- it\\'s ok, skipping.')\n",
    "    \n",
    "  dataset = dataset[0:num_images, :, :]\n",
    "  if num_images < min_num_images:\n",
    "    raise Exception('Many fewer images than expected: %d < %d' %\n",
    "                    (num_images, min_num_images))\n",
    "    \n",
    "  print('Full dataset tensor:', dataset.shape)\n",
    "  print('Mean:', np.mean(dataset))\n",
    "  print('Standard deviation:', np.std(dataset))\n",
    "  return dataset\n",
    "        \n",
    "def maybe_pickle(data_folders, min_num_images_per_class, force=False):\n",
    "  dataset_names = []\n",
    "  for folder in data_folders:\n",
    "    set_filename = folder + '.pickle'\n",
    "    dataset_names.append(set_filename)\n",
    "    if os.path.exists(set_filename) and not force:\n",
    "      # You may override by setting force=True.\n",
    "      print('%s already present - Skipping pickling.' % set_filename)\n",
    "    else:\n",
    "      print('Pickling %s.' % set_filename)\n",
    "      dataset = load_letter(folder, min_num_images_per_class)\n",
    "      try:\n",
    "        with open(set_filename, 'wb') as f:\n",
    "          pickle.dump(dataset, f, pickle.HIGHEST_PROTOCOL)\n",
    "      except Exception as e:\n",
    "        print('Unable to save data to', set_filename, ':', e)\n",
    "  \n",
    "  return dataset_names\n",
    "\n",
    "train_datasets = maybe_pickle(train_folders, 45000)\n",
    "test_datasets = maybe_pickle(test_folders, 1800)"
   ]
  },
  {
   "cell_type": "markdown",
   "metadata": {},
   "source": [
    "**Pickling**\n",
    "- It has two methods:\n",
    "    - Dump: dumps an object to a file object.\n",
    "    - Load: loads an object from a file object.\n",
    "- Some use cases:\n",
    "    - Saving a program's state data to disk so that it can carry on where it left off when restarted (persistence).\n",
    "    - Sending python data over a TCP connection in a multi-core or distributed system (marshalling).\n",
    "    - Storing python objects in a database.\n",
    "    - Converting an arbitrary python object to a string so that it can be used as a dictionary key (e.g. for caching & memorization)."
   ]
  },
  {
   "cell_type": "code",
   "execution_count": 44,
   "metadata": {
    "collapsed": false
   },
   "outputs": [
    {
     "data": {
      "text/plain": [
       "['test value', 'test value 2', 'test value 3']"
      ]
     },
     "metadata": {},
     "output_type": "display_data"
    },
    {
     "data": {
      "text/plain": [
       "['test value', 'test value 2', 'test value 3']"
      ]
     },
     "metadata": {},
     "output_type": "display_data"
    },
    {
     "data": {
      "text/plain": [
       "True"
      ]
     },
     "metadata": {},
     "output_type": "display_data"
    }
   ],
   "source": [
    "# import pickle\n",
    "\n",
    "# Create a list\n",
    "test_values = ['test value','test value 2','test value 3']\n",
    "display(test_values)\n",
    "\n",
    "file_Name = \"testfile\"\n",
    "# Open the file for writing\n",
    "fileObject = open(file_Name,'wb') \n",
    "\n",
    "# This writes the object a to the\n",
    "# file named 'testfile'\n",
    "pickle.dump(test_values, fileObject)   \n",
    "\n",
    "# Then we close the fileObject\n",
    "fileObject.close()\n",
    "\n",
    "# We then open the file for reading\n",
    "fileObject = open(file_Name,'r')  \n",
    "\n",
    "# And the object from the file into var b\n",
    "test_values_loaded = pickle.load(fileObject) \n",
    "display(test_values_loaded)\n",
    "display(test_values == test_values_loaded)"
   ]
  },
  {
   "cell_type": "markdown",
   "metadata": {
    "colab_type": "text",
    "id": "vUdbskYE2d87"
   },
   "source": [
    "---\n",
    "Problem 2\n",
    "---------\n",
    "\n",
    "Let's verify that the data still looks good. Displaying a sample of the labels and images from the ndarray. Hint: you can use matplotlib.pyplot.\n",
    "\n",
    "---"
   ]
  },
  {
   "cell_type": "code",
   "execution_count": 52,
   "metadata": {
    "collapsed": false
   },
   "outputs": [
    {
     "data": {
      "image/png": "[encoded data removed]",
      "text/plain": [
       "<matplotlib.figure.Figure at 0x119926b50>"
      ]
     },
     "metadata": {},
     "output_type": "display_data"
    }
   ],
   "source": [
    "# index 0 should be all As, 1 = all Bs, etc.\n",
    "pickle_file = train_datasets[0]  \n",
    "\n",
    "# With would automatically close the file after the nested block of code\n",
    "with open(pickle_file, 'rb') as f:\n",
    "    \n",
    "    # unpickle\n",
    "    letter_set = pickle.load(f)  \n",
    "    \n",
    "    # pick a random image index\n",
    "    sample_idx = np.random.randint(len(letter_set))\n",
    "    \n",
    "    # extract a 2D slice\n",
    "    sample_image = letter_set[sample_idx, :, :]  \n",
    "    plt.figure()\n",
    "    \n",
    "    # display it\n",
    "    plt.imshow(sample_image)  "
   ]
  },
  {
   "cell_type": "markdown",
   "metadata": {
    "colab_type": "text",
    "id": "cYznx5jUwzoO"
   },
   "source": [
    "---\n",
    "Problem 3\n",
    "---------\n",
    "Another check: we expect the data to be balanced across classes. Verify that.\n",
    "\n",
    "---"
   ]
  },
  {
   "cell_type": "markdown",
   "metadata": {
    "colab_type": "text",
    "id": "LA7M7K22ynCt"
   },
   "source": [
    "Merge and prune the training data as needed. Depending on your computer setup, you might not be able to fit it all in memory, and you can tune `train_size` as needed. The labels will be stored into a separate array of integers 0 through 9.\n",
    "\n",
    "Also create a validation dataset for hyperparameter tuning."
   ]
  },
  {
   "cell_type": "code",
   "execution_count": 53,
   "metadata": {
    "cellView": "both",
    "colab": {
     "autoexec": {
      "startup": false,
      "wait_interval": 0
     },
     "output_extras": [
      {
       "item_id": 1
      }
     ]
    },
    "colab_type": "code",
    "collapsed": false,
    "executionInfo": {
     "elapsed": 411281,
     "status": "ok",
     "timestamp": 1444485897869,
     "user": {
      "color": "#1FA15D",
      "displayName": "Vincent Vanhoucke",
      "isAnonymous": false,
      "isMe": true,
      "permissionId": "05076109866853157986",
      "photoUrl": "//lh6.googleusercontent.com/-cCJa7dTDcgQ/AAAAAAAAAAI/AAAAAAAACgw/r2EZ_8oYer4/s50-c-k-no/photo.jpg",
      "sessionId": "2a0a5e044bb03b66",
      "userId": "102167687554210253930"
     },
     "user_tz": 420
    },
    "id": "s3mWgZLpyuzq",
    "outputId": "8af66da6-902d-4719-bedc-7c9fb7ae7948"
   },
   "outputs": [
    {
     "name": "stdout",
     "output_type": "stream",
     "text": [
      "Training: (200000, 28, 28) (200000,)\n",
      "Validation: (10000, 28, 28) (10000,)\n",
      "Testing: (10000, 28, 28) (10000,)\n"
     ]
    }
   ],
   "source": [
    "def make_arrays(nb_rows, img_size):\n",
    "  if nb_rows:\n",
    "    dataset = np.ndarray((nb_rows, img_size, img_size), dtype=np.float32)\n",
    "    labels = np.ndarray(nb_rows, dtype=np.int32)\n",
    "  else:\n",
    "    dataset, labels = None, None\n",
    "  return dataset, labels\n",
    "\n",
    "def merge_datasets(pickle_files, train_size, valid_size=0):\n",
    "  num_classes = len(pickle_files)\n",
    "  valid_dataset, valid_labels = make_arrays(valid_size, image_size)\n",
    "  train_dataset, train_labels = make_arrays(train_size, image_size)\n",
    "  vsize_per_class = valid_size // num_classes\n",
    "  tsize_per_class = train_size // num_classes\n",
    "    \n",
    "  start_v, start_t = 0, 0\n",
    "  end_v, end_t = vsize_per_class, tsize_per_class\n",
    "  end_l = vsize_per_class+tsize_per_class\n",
    "  for label, pickle_file in enumerate(pickle_files):       \n",
    "    try:\n",
    "      with open(pickle_file, 'rb') as f:\n",
    "        letter_set = pickle.load(f)\n",
    "        # let's shuffle the letters to have random validation and training set\n",
    "        np.random.shuffle(letter_set)\n",
    "        if valid_dataset is not None:\n",
    "          valid_letter = letter_set[:vsize_per_class, :, :]\n",
    "          valid_dataset[start_v:end_v, :, :] = valid_letter\n",
    "          valid_labels[start_v:end_v] = label\n",
    "          start_v += vsize_per_class\n",
    "          end_v += vsize_per_class\n",
    "                    \n",
    "        train_letter = letter_set[vsize_per_class:end_l, :, :]\n",
    "        train_dataset[start_t:end_t, :, :] = train_letter\n",
    "        train_labels[start_t:end_t] = label\n",
    "        start_t += tsize_per_class\n",
    "        end_t += tsize_per_class\n",
    "    except Exception as e:\n",
    "      print('Unable to process data from', pickle_file, ':', e)\n",
    "      raise\n",
    "    \n",
    "  return valid_dataset, valid_labels, train_dataset, train_labels\n",
    "            \n",
    "            \n",
    "train_size = 200000\n",
    "valid_size = 10000\n",
    "test_size = 10000\n",
    "\n",
    "valid_dataset, valid_labels, train_dataset, train_labels = merge_datasets(\n",
    "  train_datasets, train_size, valid_size)\n",
    "_, _, test_dataset, test_labels = merge_datasets(test_datasets, test_size)\n",
    "\n",
    "print('Training:', train_dataset.shape, train_labels.shape)\n",
    "print('Validation:', valid_dataset.shape, valid_labels.shape)\n",
    "print('Testing:', test_dataset.shape, test_labels.shape)"
   ]
  },
  {
   "cell_type": "markdown",
   "metadata": {
    "colab_type": "text",
    "id": "GPTCnjIcyuKN"
   },
   "source": [
    "Next, we'll randomize the data. It's important to have the labels well shuffled for the training and test distributions to match."
   ]
  },
  {
   "cell_type": "code",
   "execution_count": 54,
   "metadata": {
    "cellView": "both",
    "colab": {
     "autoexec": {
      "startup": false,
      "wait_interval": 0
     }
    },
    "colab_type": "code",
    "collapsed": true,
    "id": "6WZ2l2tN2zOL"
   },
   "outputs": [],
   "source": [
    "def randomize(dataset, labels):\n",
    "  permutation = np.random.permutation(labels.shape[0])\n",
    "  shuffled_dataset = dataset[permutation,:,:]\n",
    "  shuffled_labels = labels[permutation]\n",
    "  return shuffled_dataset, shuffled_labels\n",
    "train_dataset, train_labels = randomize(train_dataset, train_labels)\n",
    "test_dataset, test_labels = randomize(test_dataset, test_labels)\n",
    "valid_dataset, valid_labels = randomize(valid_dataset, valid_labels)"
   ]
  },
  {
   "cell_type": "markdown",
   "metadata": {
    "colab_type": "text",
    "id": "puDUTe6t6USl"
   },
   "source": [
    "---\n",
    "Problem 4\n",
    "---------\n",
    "Convince yourself that the data is still good after shuffling!\n",
    "\n",
    "---"
   ]
  },
  {
   "cell_type": "markdown",
   "metadata": {
    "colab_type": "text",
    "id": "tIQJaJuwg5Hw"
   },
   "source": [
    "Finally, let's save the data for later reuse:"
   ]
  },
  {
   "cell_type": "code",
   "execution_count": 55,
   "metadata": {
    "cellView": "both",
    "colab": {
     "autoexec": {
      "startup": false,
      "wait_interval": 0
     }
    },
    "colab_type": "code",
    "collapsed": true,
    "id": "QiR_rETzem6C"
   },
   "outputs": [],
   "source": [
    "pickle_file = 'notMNIST.pickle'\n",
    "\n",
    "try:\n",
    "  f = open(pickle_file, 'wb')\n",
    "  save = {\n",
    "    'train_dataset': train_dataset,\n",
    "    'train_labels': train_labels,\n",
    "    'valid_dataset': valid_dataset,\n",
    "    'valid_labels': valid_labels,\n",
    "    'test_dataset': test_dataset,\n",
    "    'test_labels': test_labels,\n",
    "    }\n",
    "  pickle.dump(save, f, pickle.HIGHEST_PROTOCOL)\n",
    "  f.close()\n",
    "except Exception as e:\n",
    "  print('Unable to save data to', pickle_file, ':', e)\n",
    "  raise"
   ]
  },
  {
   "cell_type": "code",
   "execution_count": 57,
   "metadata": {
    "cellView": "both",
    "colab": {
     "autoexec": {
      "startup": false,
      "wait_interval": 0
     },
     "output_extras": [
      {
       "item_id": 1
      }
     ]
    },
    "colab_type": "code",
    "collapsed": false,
    "executionInfo": {
     "elapsed": 413065,
     "status": "ok",
     "timestamp": 1444485899688,
     "user": {
      "color": "#1FA15D",
      "displayName": "Vincent Vanhoucke",
      "isAnonymous": false,
      "isMe": true,
      "permissionId": "05076109866853157986",
      "photoUrl": "//lh6.googleusercontent.com/-cCJa7dTDcgQ/AAAAAAAAAAI/AAAAAAAACgw/r2EZ_8oYer4/s50-c-k-no/photo.jpg",
      "sessionId": "2a0a5e044bb03b66",
      "userId": "102167687554210253930"
     },
     "user_tz": 420
    },
    "id": "hQbLjrW_iT39",
    "outputId": "b440efc6-5ee1-4cbc-d02d-93db44ebd956"
   },
   "outputs": [
    {
     "name": "stdout",
     "output_type": "stream",
     "text": [
      "Compressed pickle size: 690800441\n"
     ]
    }
   ],
   "source": [
    "# Getting statistics of a file using os.stat(file_name)\n",
    "statinfo = os.stat(pickle_file)\n",
    "print('Compressed pickle size:', statinfo.st_size)"
   ]
  },
  {
   "cell_type": "markdown",
   "metadata": {
    "colab_type": "text",
    "id": "gE_cRAQB33lk"
   },
   "source": [
    "---\n",
    "Problem 5\n",
    "---------\n",
    "\n",
    "By construction, this dataset might contain a lot of overlapping samples, including training data that's also contained in the validation and test set! Overlap between training and test can skew the results if you expect to use your model in an environment where there is never an overlap, but are actually ok if you expect to see training samples recur when you use it.\n",
    "Measure how much overlap there is between training, validation and test samples.\n",
    "\n",
    "Optional questions:\n",
    "- What about near duplicates between datasets? (images that are almost identical)\n",
    "- Create a sanitized validation and test set, and compare your accuracy on those in subsequent assignments.\n",
    "---"
   ]
  },
  {
   "cell_type": "code",
   "execution_count": 70,
   "metadata": {
    "collapsed": false
   },
   "outputs": [
    {
     "name": "stdout",
     "output_type": "stream",
     "text": [
      "Number of overlaps between training and test sets: 1124. Execution time: 0.935268.\n",
      "Number of overlaps between training and validation sets: 936. Execution time: 1.012661.\n",
      "Number of overlaps between validation and test sets: 56. Execution time: 0.088767.\n"
     ]
    }
   ],
   "source": [
    "import time\n",
    "\n",
    "def check_overlaps(images1, images2):\n",
    "    images1.flags.writeable=False\n",
    "    images2.flags.writeable=False\n",
    "    start = time.clock()\n",
    "    hash1 = set([hash(image1.data) for image1 in images1])\n",
    "    hash2 = set([hash(image2.data) for image2 in images2])\n",
    "    all_overlaps = set.intersection(hash1, hash2)\n",
    "    return all_overlaps, time.clock()-start\n",
    "\n",
    "r, execTime = check_overlaps(train_dataset, test_dataset)    \n",
    "print('Number of overlaps between training and test sets: {}. Execution time: {}.'.format(len(r), execTime))\n",
    "\n",
    "r, execTime = check_overlaps(train_dataset, valid_dataset)   \n",
    "print('Number of overlaps between training and validation sets: {}. Execution time: {}.'.format(len(r), execTime))\n",
    "\n",
    "r, execTime = check_overlaps(valid_dataset, test_dataset) \n",
    "print('Number of overlaps between validation and test sets: {}. Execution time: {}.'.format(len(r), execTime))"
   ]
  },
  {
   "cell_type": "markdown",
   "metadata": {
    "colab_type": "text",
    "id": "L8oww1s4JMQx"
   },
   "source": [
    "---\n",
    "Problem 6\n",
    "---------\n",
    "\n",
    "Let's get an idea of what an off-the-shelf classifier can give you on this data. It's always good to check that there is something to learn, and that it's a problem that is not so trivial that a canned solution solves it.\n",
    "\n",
    "Train a simple model on this data using 50, 100, 1000 and 5000 training samples. Hint: you can use the LogisticRegression model from sklearn.linear_model.\n",
    "\n",
    "Optional question: train an off-the-shelf model on all the data!\n",
    "\n",
    "---"
   ]
  },
  {
   "cell_type": "code",
   "execution_count": 73,
   "metadata": {
    "collapsed": false
   },
   "outputs": [
    {
     "data": {
      "text/plain": [
       "(200000, 28, 28)"
      ]
     },
     "execution_count": 73,
     "metadata": {},
     "output_type": "execute_result"
    }
   ],
   "source": [
    "# Here you have 200000 samples\n",
    "# 28 x 28 features\n",
    "# We have to reshape them because scikit-learn expects (n_samples, n_features)\n",
    "train_dataset.shape"
   ]
  },
  {
   "cell_type": "code",
   "execution_count": null,
   "metadata": {
    "collapsed": true
   },
   "outputs": [],
   "source": [
    "# Prepare training data\n",
    "samples, width, height = train_dataset.shape\n",
    "X_train = np.reshape(train_dataset,(samples,width*height))\n",
    "y_train = train_labels\n",
    "\n",
    "# Prepare testing data\n",
    "samples, width, height = test_dataset.shape\n",
    "X_test = np.reshape(test_dataset,(samples,width*height))\n",
    "y_test = test_labels"
   ]
  },
  {
   "cell_type": "code",
   "execution_count": null,
   "metadata": {
    "collapsed": false
   },
   "outputs": [],
   "source": [
    "# Import\n",
    "from sklearn.linear_model import LogisticRegression\n",
    "\n",
    "# Instantiate\n",
    "lg = LogisticRegression(multi_class='multinomial', solver='lbfgs', random_state=42, verbose=1, max_iter=1000 )\n",
    "\n",
    "# Fit\n",
    "lg.fit(X, y)\n",
    "\n",
    "# Predict\n",
    "y_pred = lg.predict(X_test)\n",
    "\n",
    "# Score\n",
    "from sklearn import metrics\n",
    "metrics.accuracy_score(y_test, y_pred)"
   ]
  },
  {
   "cell_type": "code",
   "execution_count": null,
   "metadata": {
    "collapsed": true
   },
   "outputs": [],
   "source": []
  }
 ],
 "metadata": {
  "anaconda-cloud": {},
  "colab": {
   "default_view": {},
   "name": "1_notmnist.ipynb",
   "provenance": [],
   "version": "0.3.2",
   "views": {}
  },
  "kernelspec": {
   "display_name": "Python [conda env:tensorflow]",
   "language": "python",
   "name": "conda-env-tensorflow-py"
  },
  "language_info": {
   "codemirror_mode": {
    "name": "ipython",
    "version": 2
   },
   "file_extension": ".py",
   "mimetype": "text/x-python",
   "name": "python",
   "nbconvert_exporter": "python",
   "pygments_lexer": "ipython2",
   "version": "2.7.12"
  }
 },
 "nbformat": 4,
 "nbformat_minor": 0
}

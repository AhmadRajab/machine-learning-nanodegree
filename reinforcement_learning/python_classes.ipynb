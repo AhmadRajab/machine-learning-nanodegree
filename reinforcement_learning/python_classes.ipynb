{
 "cells": [
  {
   "cell_type": "markdown",
   "metadata": {},
   "source": [
    "## Python Classes"
   ]
  },
  {
   "cell_type": "markdown",
   "metadata": {},
   "source": [
    "A class has many functions."
   ]
  },
  {
   "cell_type": "markdown",
   "metadata": {},
   "source": [
    "**Creating a class: init**\n",
    "- The _init_ method is also called a constructor.\n",
    "- It takes in parameters and assigns fields to the new instance"
   ]
  },
  {
   "cell_type": "code",
   "execution_count": 22,
   "metadata": {
    "collapsed": true
   },
   "outputs": [],
   "source": [
    "# Import display\n",
    "from IPython.display import display"
   ]
  },
  {
   "cell_type": "code",
   "execution_count": 30,
   "metadata": {
    "collapsed": false
   },
   "outputs": [
    {
     "name": "stdout",
     "output_type": "stream",
     "text": [
      "Method sum_all in class Add\n"
     ]
    },
    {
     "data": {
      "text/plain": [
       "20"
      ]
     },
     "metadata": {},
     "output_type": "display_data"
    }
   ],
   "source": [
    "# Example of instantiating a class\n",
    "\n",
    "# Create a class\n",
    "class Add:\n",
    "    def __init__(self, num_1, num_2):\n",
    "        self.num_1 = num_1\n",
    "        self.num_2 = num_2\n",
    "        \n",
    "    def sum_all(self):\n",
    "        print(\"Method sum_all in class Add\")\n",
    "        return self.num_1 + self.num_2\n",
    "    \n",
    "\n",
    "# Crease an instance of Add\n",
    "a = Add(10,10)\n",
    "\n",
    "# Now we can access the function within the class\n",
    "# using the dot notation\n",
    "display(x.sum_all())"
   ]
  },
  {
   "cell_type": "markdown",
   "metadata": {},
   "source": [
    "**Inheritance**\n",
    "- We can have a class inheriting from other classes.\n",
    "- We can specify the inheritance in paranthesis."
   ]
  },
  {
   "cell_type": "code",
   "execution_count": 28,
   "metadata": {
    "collapsed": false
   },
   "outputs": [
    {
     "name": "stdout",
     "output_type": "stream",
     "text": [
      "Method sum_all() in class A:\n"
     ]
    },
    {
     "data": {
      "text/plain": [
       "20"
      ]
     },
     "metadata": {},
     "output_type": "display_data"
    },
    {
     "name": "stdout",
     "output_type": "stream",
     "text": [
      "Method mult_all() in class B:\n"
     ]
    },
    {
     "data": {
      "text/plain": [
       "100"
      ]
     },
     "metadata": {},
     "output_type": "display_data"
    }
   ],
   "source": [
    "# Example of inheritance \n",
    "\n",
    "class Add:\n",
    "    def __init__(self, num_1, num_2):\n",
    "        self.num_1 = num_1\n",
    "        self.num_2 = num_2\n",
    "        \n",
    "    def sum_all(self):\n",
    "        print(\"Method sum_all() in class A:\")\n",
    "        return self.num_1 + self.num_2\n",
    "\n",
    "class Multiply(Add):\n",
    "    def mult_all(self):\n",
    "        print(\"Method mult_all() in class B:\")\n",
    "        return self.num_1 * self.num_2\n",
    "    \n",
    "# Instantiate Multiply class\n",
    "m = Multiply(10, 10)\n",
    "\n",
    "# Call method sum_all\n",
    "# This is inherited from class Add\n",
    "display(m.sum_all())\n",
    "\n",
    "# Call method mult_all\n",
    "display(m.mult_all())"
   ]
  },
  {
   "cell_type": "markdown",
   "metadata": {},
   "source": [
    "**Private Members**\n",
    "- These are created with 2 underscores within a class\n",
    "- They can only be accessed outside the class if we add _ClassName"
   ]
  },
  {
   "cell_type": "code",
   "execution_count": 38,
   "metadata": {
    "collapsed": false
   },
   "outputs": [
    {
     "data": {
      "text/plain": [
       "5"
      ]
     },
     "metadata": {},
     "output_type": "display_data"
    },
    {
     "data": {
      "text/plain": [
       "5"
      ]
     },
     "metadata": {},
     "output_type": "display_data"
    }
   ],
   "source": [
    "# Example of Private Members within a Class\n",
    "\n",
    "class A:\n",
    "    def __init__(self, num_1, num_2):\n",
    "        self.__num_1 = num_1\n",
    "        self.__num_2 = num_2\n",
    "        \n",
    "    __num_1 = 10\n",
    "    __num_2 = 10\n",
    "\n",
    "# Instantiate class\n",
    "a = A(5, 5)\n",
    "\n",
    "\n",
    "# Call private member\n",
    "display(a._A__num_1)\n",
    "display(a._A__num_2)"
   ]
  },
  {
   "cell_type": "code",
   "execution_count": null,
   "metadata": {
    "collapsed": true
   },
   "outputs": [],
   "source": []
  }
 ],
 "metadata": {
  "anaconda-cloud": {},
  "kernelspec": {
   "display_name": "Python [conda env:py3k]",
   "language": "python",
   "name": "conda-env-py3k-py"
  },
  "language_info": {
   "codemirror_mode": {
    "name": "ipython",
    "version": 3
   },
   "file_extension": ".py",
   "mimetype": "text/x-python",
   "name": "python",
   "nbconvert_exporter": "python",
   "pygments_lexer": "ipython3",
   "version": "3.5.2"
  }
 },
 "nbformat": 4,
 "nbformat_minor": 1
}

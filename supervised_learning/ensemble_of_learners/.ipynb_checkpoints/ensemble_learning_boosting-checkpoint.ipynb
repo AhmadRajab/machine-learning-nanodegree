{
 "cells": [
  {
   "cell_type": "markdown",
   "metadata": {},
   "source": [
    "## Ensemble Learning: Boosting"
   ]
  },
  {
   "cell_type": "markdown",
   "metadata": {},
   "source": [
    "**Characteristics of Ensemble Learning**\n",
    "- Intuition\n",
    "    - You take a bunch of simple rules \n",
    "    - On their own, they do not give good answers\n",
    "    - But once you take them together, they do something good"
   ]
  },
  {
   "cell_type": "markdown",
   "metadata": {},
   "source": [
    "**Bagging or Bootstrap Aggregation**\n",
    "- Algorithm\n",
    "    1. Learn over a subset of data to come up rules\n",
    "        - Uniformly and randomly choose the data\n",
    "        - Apply a learning algorithm to get a rule (hypothesis)\n",
    "    2. Combine rules\n",
    "        - Mean\n",
    "- Example \n",
    "    1. Say you've subsets of third order polynomials (rules)\n",
    "    2. You average the subsets of third order polynomials\n",
    "        - You're actually averaging the variances and differences\n",
    "        - It's good at getting rid of overfitting"
   ]
  },
  {
   "cell_type": "markdown",
   "metadata": {},
   "source": [
    "**Boosting**\n",
    "- "
   ]
  },
  {
   "cell_type": "code",
   "execution_count": null,
   "metadata": {
    "collapsed": true
   },
   "outputs": [],
   "source": []
  }
 ],
 "metadata": {
  "anaconda-cloud": {},
  "kernelspec": {
   "display_name": "Python [py3k]",
   "language": "python",
   "name": "Python [py3k]"
  },
  "language_info": {
   "codemirror_mode": {
    "name": "ipython",
    "version": 3
   },
   "file_extension": ".py",
   "mimetype": "text/x-python",
   "name": "python",
   "nbconvert_exporter": "python",
   "pygments_lexer": "ipython3",
   "version": "3.5.2"
  }
 },
 "nbformat": 4,
 "nbformat_minor": 0
}
